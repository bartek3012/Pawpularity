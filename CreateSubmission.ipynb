{
 "cells": [
  {
   "cell_type": "code",
   "execution_count": 1,
   "id": "87c7d1e2-f0a2-4770-9ce1-890034bbbd5e",
   "metadata": {},
   "outputs": [],
   "source": [
    "import tensorflow as tf\n",
    "import pandas as pd\n",
    "import tqdm\n",
    "import numpy as np\n",
    "import cv2"
   ]
  },
  {
   "cell_type": "code",
   "execution_count": 2,
   "id": "9aed3033-f4b2-4147-84e1-77a6a209097f",
   "metadata": {},
   "outputs": [],
   "source": [
    "df= pd.read_csv('Data/train.csv')\n",
    "#df = df[:100]\n",
    "all_id = np.array(df['Id'])"
   ]
  },
  {
   "cell_type": "code",
   "execution_count": 3,
   "id": "82794b2a-7e63-47a8-b0f3-ac75cef11b38",
   "metadata": {},
   "outputs": [],
   "source": [
    "def get_images_from_id(data_id, _type = 'train', img_size=128, colours=3):\n",
    "    pictures = np.zeros((len(data_id), img_size, img_size, colours))\n",
    "    for i, single_id in tqdm.tqdm(enumerate(data_id)):\n",
    "        img = cv2.cvtColor(cv2.imread(f\"Data/{_type}/{single_id}.jpg\"), cv2.COLOR_BGR2RGB)\n",
    "        if _type == 'train':\n",
    "            new_img = cv2.resize(img, (img_size, img_size))\n",
    "        else:\n",
    "            new_img = img\n",
    "        pictures[i] = new_img/255\n",
    "    return pictures"
   ]
  },
  {
   "cell_type": "code",
   "execution_count": 4,
   "id": "69cb540a-1408-40f0-87ff-6b1cec4561d9",
   "metadata": {},
   "outputs": [
    {
     "name": "stderr",
     "output_type": "stream",
     "text": [
      "9912it [01:17, 128.59it/s]\n"
     ]
    },
    {
     "data": {
      "text/plain": [
       "12"
      ]
     },
     "execution_count": 4,
     "metadata": {},
     "output_type": "execute_result"
    }
   ],
   "source": [
    "y = df['Pawpularity']\n",
    "X_image = get_images_from_id(df['Id'])\n",
    "X_metadata = df.drop(columns=['Id', 'Pawpularity'])\n",
    "X_metadata.shape[1]"
   ]
  },
  {
   "cell_type": "code",
   "execution_count": 5,
   "id": "2715db90-c41e-4b49-9699-503b48844376",
   "metadata": {},
   "outputs": [
    {
     "name": "stdout",
     "output_type": "stream",
     "text": [
      "Train on 9912 samples\n",
      "Epoch 1/50\n",
      "9912/9912 [==============================] - 13s 1ms/sample - loss: 485.0391 - mse: 484.8879\n",
      "Epoch 2/50\n",
      "9912/9912 [==============================] - 9s 905us/sample - loss: 437.2348 - mse: 437.0974\n",
      "Epoch 3/50\n",
      "9912/9912 [==============================] - 9s 900us/sample - loss: 433.5548 - mse: 433.4339\n",
      "Epoch 4/50\n",
      "9912/9912 [==============================] - 9s 894us/sample - loss: 432.5574 - mse: 432.4505\n",
      "Epoch 5/50\n",
      "9912/9912 [==============================] - 9s 896us/sample - loss: 432.1709 - mse: 432.0742\n",
      "Epoch 6/50\n",
      "9912/9912 [==============================] - 9s 936us/sample - loss: 429.8434 - mse: 429.7533\n",
      "Epoch 7/50\n",
      "9912/9912 [==============================] - 9s 921us/sample - loss: 431.3286 - mse: 431.2431\n",
      "Epoch 8/50\n",
      "9912/9912 [==============================] - 9s 922us/sample - loss: 429.9459 - mse: 429.8643\n",
      "Epoch 9/50\n",
      "9912/9912 [==============================] - 9s 926us/sample - loss: 431.1661 - mse: 431.0876- ETA: 0s - loss: 431.6137 - mse: 431.53\n",
      "Epoch 10/50\n",
      "9912/9912 [==============================] - 9s 923us/sample - loss: 427.4584 - mse: 427.3819s - loss: 427.96\n",
      "Epoch 11/50\n",
      "9912/9912 [==============================] - 9s 926us/sample - loss: 427.5133 - mse: 427.4388s - loss:  - ETA: 0s - loss: 430.9829 \n",
      "Epoch 12/50\n",
      "9912/9912 [==============================] - 9s 924us/sample - loss: 426.3070 - mse: 426.2342s - loss: 422.6085 - m\n",
      "Epoch 13/50\n",
      "9912/9912 [==============================] - 9s 922us/sample - loss: 427.5010 - mse: 427.4296\n",
      "Epoch 14/50\n",
      "9912/9912 [==============================] - 9s 925us/sample - loss: 426.9144 - mse: 426.8443s - loss: 428.0878 - mse: 4 - ETA: 0s - loss: 426.587\n",
      "Epoch 15/50\n",
      "9912/9912 [==============================] - 9s 932us/sample - loss: 427.1061 - mse: 427.0370\n",
      "Epoch 16/50\n",
      "9912/9912 [==============================] - 9s 909us/sample - loss: 427.2549 - mse: 427.1866\n",
      "Epoch 17/50\n",
      "9912/9912 [==============================] - 9s 899us/sample - loss: 428.4077 - mse: 428.3401\n",
      "Epoch 18/50\n",
      "9912/9912 [==============================] - 9s 898us/sample - loss: 426.4037 - mse: 426.3370\n",
      "Epoch 19/50\n",
      "9912/9912 [==============================] - 9s 897us/sample - loss: 427.8560 - mse: 427.7895\n",
      "Epoch 20/50\n",
      "9912/9912 [==============================] - 9s 919us/sample - loss: 428.0563 - mse: 427.9903s - loss: 426.9703 - mse:\n",
      "Epoch 21/50\n",
      "9912/9912 [==============================] - 9s 927us/sample - loss: 425.8875 - mse: 425.8218\n",
      "Epoch 22/50\n",
      "9912/9912 [==============================] - 9s 927us/sample - loss: 426.5795 - mse: 426.5146\n",
      "Epoch 23/50\n",
      "9912/9912 [==============================] - 9s 926us/sample - loss: 425.6510 - mse: 425.5861\n",
      "Epoch 24/50\n",
      "9912/9912 [==============================] - 9s 924us/sample - loss: 427.1797 - mse: 427.1159s - loss: 438.2967 \n",
      "Epoch 25/50\n",
      "9912/9912 [==============================] - 9s 923us/sample - loss: 426.7165 - mse: 426.6531\n",
      "Epoch 26/50\n",
      "9912/9912 [==============================] - 9s 928us/sample - loss: 427.0277 - mse: 426.9645s - loss: 424.70 - \n",
      "Epoch 27/50\n",
      "9912/9912 [==============================] - 9s 924us/sample - loss: 426.2631 - mse: 426.2006\n",
      "Epoch 28/50\n",
      "9912/9912 [==============================] - 9s 895us/sample - loss: 427.5524 - mse: 427.4903\n",
      "Epoch 29/50\n",
      "9912/9912 [==============================] - 9s 897us/sample - loss: 425.7315 - mse: 425.6695\n",
      "Epoch 30/50\n",
      "9912/9912 [==============================] - 9s 895us/sample - loss: 425.7647 - mse: 425.7036s - loss: 425.6433 - mse: 425.582\n",
      "Epoch 31/50\n",
      "9912/9912 [==============================] - 9s 896us/sample - loss: 427.0355 - mse: 426.9751\n",
      "Epoch 32/50\n",
      "9912/9912 [==============================] - 9s 898us/sample - loss: 424.7281 - mse: 424.6679\n",
      "Epoch 33/50\n",
      "9912/9912 [==============================] - 9s 896us/sample - loss: 425.2806 - mse: 425.2212\n",
      "Epoch 34/50\n",
      "9912/9912 [==============================] - 9s 895us/sample - loss: 426.0930 - mse: 426.0342s - loss: 4\n",
      "Epoch 35/50\n",
      "9912/9912 [==============================] - 9s 898us/sample - loss: 424.8616 - mse: 424.8032\n",
      "Epoch 36/50\n",
      "9912/9912 [==============================] - 9s 897us/sample - loss: 425.9767 - mse: 425.9191\n",
      "Epoch 37/50\n",
      "9912/9912 [==============================] - 9s 897us/sample - loss: 426.1812 - mse: 426.1237\n",
      "Epoch 38/50\n",
      "9912/9912 [==============================] - 9s 898us/sample - loss: 427.7969 - mse: 427.7396\n",
      "Epoch 39/50\n",
      "9912/9912 [==============================] - 9s 896us/sample - loss: 426.1000 - mse: 426.0432\n",
      "Epoch 40/50\n",
      "9912/9912 [==============================] - 9s 898us/sample - loss: 427.3646 - mse: 427.3081\n",
      "Epoch 41/50\n",
      "9912/9912 [==============================] - 9s 896us/sample - loss: 424.9230 - mse: 424.8668\n",
      "Epoch 42/50\n",
      "9912/9912 [==============================] - 9s 895us/sample - loss: 425.4984 - mse: 425.4424\n",
      "Epoch 43/50\n",
      "9912/9912 [==============================] - 9s 898us/sample - loss: 425.6153 - mse: 425.5600\n",
      "Epoch 44/50\n",
      "9912/9912 [==============================] - 9s 895us/sample - loss: 426.1563 - mse: 426.1012\n",
      "Epoch 45/50\n",
      "9912/9912 [==============================] - 9s 897us/sample - loss: 425.0293 - mse: 424.9748\n",
      "Epoch 46/50\n",
      "9912/9912 [==============================] - 9s 897us/sample - loss: 424.5405 - mse: 424.4865\n",
      "Epoch 47/50\n",
      "9912/9912 [==============================] - 9s 897us/sample - loss: 425.2931 - mse: 425.2390\n",
      "Epoch 48/50\n",
      "9912/9912 [==============================] - 9s 898us/sample - loss: 426.5001 - mse: 426.4462\n",
      "Epoch 49/50\n",
      "9912/9912 [==============================] - 9s 897us/sample - loss: 424.1735 - mse: 424.1199\n",
      "Epoch 50/50\n",
      "9912/9912 [==============================] - 9s 896us/sample - loss: 425.7348 - mse: 425.6815\n"
     ]
    }
   ],
   "source": [
    "tf.random.set_seed(42)\n",
    "IMG_SIZE = 128\n",
    "\n",
    "\n",
    "input_image = tf.keras.Input((IMG_SIZE, IMG_SIZE, 3)) # Wejście na zdjęcia 128X128x3\n",
    "input_metadata = tf.keras.Input(X_metadata.shape[1]) # Wejście na metadane 13 kategorii\n",
    "\n",
    "image_conv2D_1 = tf.keras.layers.Conv2D(8, 3, activation='relu', padding='same')(input_image)\n",
    "image_conv2D_2 = tf.keras.layers.Conv2D(8, 3, activation='relu', padding='same')(image_conv2D_1)\n",
    "image_maxpool2D_1 = tf.keras.layers.MaxPooling2D(2)(image_conv2D_2)\n",
    "\n",
    "image_conv2D_3 = tf.keras.layers.Conv2D(16, 3, activation='relu', padding='same')(image_maxpool2D_1)\n",
    "image_conv2D_4 = tf.keras.layers.Conv2D(16, 3, activation='relu', padding='same')(image_conv2D_3)\n",
    "image_maxpool2D_2 = tf.keras.layers.MaxPooling2D(2)(image_conv2D_4)\n",
    "\n",
    "image_conv2D_5 = tf.keras.layers.Conv2D(32, 3, activation='relu', padding='same')(image_maxpool2D_2)\n",
    "image_conv2D_6 = tf.keras.layers.Conv2D(32, 3, activation='relu', padding='same')(image_conv2D_5)\n",
    "image_maxpool2D_3 = tf.keras.layers.MaxPooling2D(2)(image_conv2D_6)\n",
    "\n",
    "image_conv2D_7 = tf.keras.layers.Conv2D(64, 3, activation='relu', padding='same')(image_maxpool2D_3)\n",
    "image_conv2D_8 = tf.keras.layers.Conv2D(64, 3, activation='relu', padding='same')(image_conv2D_7)\n",
    "image_maxpool2D_4 = tf.keras.layers.MaxPooling2D(2)(image_conv2D_8)\n",
    "\n",
    "image_conv2D_9 = tf.keras.layers.Conv2D(128, 3, activation='relu', padding='same')(image_maxpool2D_4)\n",
    "image_conv2D_10 = tf.keras.layers.Conv2D(128, 3, activation='relu', padding='same')(image_conv2D_9)\n",
    "image_maxpool2D_5 = tf.keras.layers.MaxPooling2D(2)(image_conv2D_10) \n",
    "flatten = tf.keras.layers.GlobalAveragePooling2D()(image_maxpool2D_5) #Podobne działanie do Flatten\n",
    "\n",
    "metadata_dense_1 = tf.keras.layers.Dense(16)(input_metadata)\n",
    "metadata_dense_2 = tf.keras.layers.Dense(16)(metadata_dense_1)\n",
    "metadata_dense_3 = tf.keras.layers.Dense(16)(metadata_dense_2)\n",
    "metadata_dense_4 = tf.keras.layers.Dense(16, activation=\"relu\", kernel_regularizer=tf.keras.regularizers.l2())(metadata_dense_3)\n",
    "\n",
    "concat = tf.keras.layers.concatenate([flatten, metadata_dense_4])\n",
    "output = tf.keras.layers.Dense(1)(concat)\n",
    "model = tf.keras.Model(inputs=[input_image, input_metadata], outputs=[output])\n",
    "\n",
    "model.compile(loss=tf.keras.losses.MeanSquaredError(), optimizer=tf.keras.optimizers.Adam(1e-3), metrics=[\"mse\"])\n",
    "\n",
    "history_1 = model.fit((X_image, X_metadata), y, epochs=50)"
   ]
  },
  {
   "cell_type": "code",
   "execution_count": 6,
   "id": "b380931b-63e7-4e67-86f7-3a73f4c611dd",
   "metadata": {},
   "outputs": [
    {
     "name": "stderr",
     "output_type": "stream",
     "text": [
      "8it [00:00, 2564.34it/s]\n"
     ]
    }
   ],
   "source": [
    "df_test = pd.read_csv('Data/test.csv', sep=';')\n",
    "X_images_test = get_images_from_id(df_test['Id'], 'test')\n",
    "X_metadata_test = df_test.drop(columns=['Id'])"
   ]
  },
  {
   "cell_type": "code",
   "execution_count": 7,
   "id": "4a5ed0c7-afda-4477-a9f8-9579f8585806",
   "metadata": {},
   "outputs": [
    {
     "data": {
      "text/plain": [
       "(128, 128, 3)"
      ]
     },
     "execution_count": 7,
     "metadata": {},
     "output_type": "execute_result"
    }
   ],
   "source": [
    "X_images_test[0].shape"
   ]
  },
  {
   "cell_type": "code",
   "execution_count": 8,
   "id": "0f2e3ecc-2af7-4e5d-ad82-015e5dc13888",
   "metadata": {},
   "outputs": [
    {
     "data": {
      "text/plain": [
       "array([[36.748814],\n",
       "       [35.853542],\n",
       "       [35.617775],\n",
       "       [37.330677],\n",
       "       [36.286415],\n",
       "       [41.93344 ],\n",
       "       [32.491848],\n",
       "       [34.817093]], dtype=float32)"
      ]
     },
     "execution_count": 8,
     "metadata": {},
     "output_type": "execute_result"
    }
   ],
   "source": [
    "results = model.predict((X_images_test, X_metadata_test))\n",
    "results"
   ]
  },
  {
   "cell_type": "code",
   "execution_count": 9,
   "id": "0f79f8b2-428c-4200-a7a9-2f05bfd90ca9",
   "metadata": {},
   "outputs": [
    {
     "data": {
      "text/html": [
       "<div>\n",
       "<style scoped>\n",
       "    .dataframe tbody tr th:only-of-type {\n",
       "        vertical-align: middle;\n",
       "    }\n",
       "\n",
       "    .dataframe tbody tr th {\n",
       "        vertical-align: top;\n",
       "    }\n",
       "\n",
       "    .dataframe thead th {\n",
       "        text-align: right;\n",
       "    }\n",
       "</style>\n",
       "<table border=\"1\" class=\"dataframe\">\n",
       "  <thead>\n",
       "    <tr style=\"text-align: right;\">\n",
       "      <th></th>\n",
       "      <th>Id</th>\n",
       "      <th>Pawpularity</th>\n",
       "    </tr>\n",
       "  </thead>\n",
       "  <tbody>\n",
       "    <tr>\n",
       "      <th>0</th>\n",
       "      <td>4128bae22183829d2b5fea10effdb0c3</td>\n",
       "      <td>10.000</td>\n",
       "    </tr>\n",
       "    <tr>\n",
       "      <th>1</th>\n",
       "      <td>43a2262d7738e3d420d453815151079e</td>\n",
       "      <td>0.001</td>\n",
       "    </tr>\n",
       "    <tr>\n",
       "      <th>2</th>\n",
       "      <td>4e429cead1848a298432a0acad014c9d</td>\n",
       "      <td>0.001</td>\n",
       "    </tr>\n",
       "    <tr>\n",
       "      <th>3</th>\n",
       "      <td>80bc3ccafcc51b66303c2c263aa38486</td>\n",
       "      <td>0.001</td>\n",
       "    </tr>\n",
       "    <tr>\n",
       "      <th>4</th>\n",
       "      <td>8f49844c382931444e68dffbe20228f4</td>\n",
       "      <td>0.001</td>\n",
       "    </tr>\n",
       "    <tr>\n",
       "      <th>5</th>\n",
       "      <td>b03f7041962238a7c9d6537e22f9b017</td>\n",
       "      <td>0.001</td>\n",
       "    </tr>\n",
       "    <tr>\n",
       "      <th>6</th>\n",
       "      <td>c978013571258ed6d4637f6e8cc9d6a3</td>\n",
       "      <td>0.001</td>\n",
       "    </tr>\n",
       "    <tr>\n",
       "      <th>7</th>\n",
       "      <td>e0de453c1bffc20c22b072b34b54e50f</td>\n",
       "      <td>0.001</td>\n",
       "    </tr>\n",
       "  </tbody>\n",
       "</table>\n",
       "</div>"
      ],
      "text/plain": [
       "                                 Id  Pawpularity\n",
       "0  4128bae22183829d2b5fea10effdb0c3       10.000\n",
       "1  43a2262d7738e3d420d453815151079e        0.001\n",
       "2  4e429cead1848a298432a0acad014c9d        0.001\n",
       "3  80bc3ccafcc51b66303c2c263aa38486        0.001\n",
       "4  8f49844c382931444e68dffbe20228f4        0.001\n",
       "5  b03f7041962238a7c9d6537e22f9b017        0.001\n",
       "6  c978013571258ed6d4637f6e8cc9d6a3        0.001\n",
       "7  e0de453c1bffc20c22b072b34b54e50f        0.001"
      ]
     },
     "execution_count": 9,
     "metadata": {},
     "output_type": "execute_result"
    }
   ],
   "source": [
    "sub = pd.read_csv('Data/sample_submission.csv')\n",
    "sub['Pawpularity'] = 0.001\n",
    "sub.at[0, 'Pawpularity'] = 10\n",
    "sub"
   ]
  },
  {
   "cell_type": "code",
   "execution_count": 10,
   "id": "6e2d2712-01d8-4626-a720-3b11a198289b",
   "metadata": {},
   "outputs": [
    {
     "data": {
      "text/html": [
       "<div>\n",
       "<style scoped>\n",
       "    .dataframe tbody tr th:only-of-type {\n",
       "        vertical-align: middle;\n",
       "    }\n",
       "\n",
       "    .dataframe tbody tr th {\n",
       "        vertical-align: top;\n",
       "    }\n",
       "\n",
       "    .dataframe thead th {\n",
       "        text-align: right;\n",
       "    }\n",
       "</style>\n",
       "<table border=\"1\" class=\"dataframe\">\n",
       "  <thead>\n",
       "    <tr style=\"text-align: right;\">\n",
       "      <th></th>\n",
       "      <th>Id</th>\n",
       "      <th>Pawpularity</th>\n",
       "    </tr>\n",
       "  </thead>\n",
       "  <tbody>\n",
       "    <tr>\n",
       "      <th>0</th>\n",
       "      <td>4128bae22183829d2b5fea10effdb0c3</td>\n",
       "      <td>36.748814</td>\n",
       "    </tr>\n",
       "    <tr>\n",
       "      <th>1</th>\n",
       "      <td>43a2262d7738e3d420d453815151079e</td>\n",
       "      <td>35.853542</td>\n",
       "    </tr>\n",
       "    <tr>\n",
       "      <th>2</th>\n",
       "      <td>4e429cead1848a298432a0acad014c9d</td>\n",
       "      <td>35.617775</td>\n",
       "    </tr>\n",
       "    <tr>\n",
       "      <th>3</th>\n",
       "      <td>80bc3ccafcc51b66303c2c263aa38486</td>\n",
       "      <td>37.330677</td>\n",
       "    </tr>\n",
       "    <tr>\n",
       "      <th>4</th>\n",
       "      <td>8f49844c382931444e68dffbe20228f4</td>\n",
       "      <td>36.286415</td>\n",
       "    </tr>\n",
       "    <tr>\n",
       "      <th>5</th>\n",
       "      <td>b03f7041962238a7c9d6537e22f9b017</td>\n",
       "      <td>41.933441</td>\n",
       "    </tr>\n",
       "    <tr>\n",
       "      <th>6</th>\n",
       "      <td>c978013571258ed6d4637f6e8cc9d6a3</td>\n",
       "      <td>32.491848</td>\n",
       "    </tr>\n",
       "    <tr>\n",
       "      <th>7</th>\n",
       "      <td>e0de453c1bffc20c22b072b34b54e50f</td>\n",
       "      <td>34.817093</td>\n",
       "    </tr>\n",
       "  </tbody>\n",
       "</table>\n",
       "</div>"
      ],
      "text/plain": [
       "                                 Id  Pawpularity\n",
       "0  4128bae22183829d2b5fea10effdb0c3    36.748814\n",
       "1  43a2262d7738e3d420d453815151079e    35.853542\n",
       "2  4e429cead1848a298432a0acad014c9d    35.617775\n",
       "3  80bc3ccafcc51b66303c2c263aa38486    37.330677\n",
       "4  8f49844c382931444e68dffbe20228f4    36.286415\n",
       "5  b03f7041962238a7c9d6537e22f9b017    41.933441\n",
       "6  c978013571258ed6d4637f6e8cc9d6a3    32.491848\n",
       "7  e0de453c1bffc20c22b072b34b54e50f    34.817093"
      ]
     },
     "execution_count": 10,
     "metadata": {},
     "output_type": "execute_result"
    }
   ],
   "source": [
    "for i, res in enumerate(results):\n",
    "    sub.at[i, 'Pawpularity'] = res\n",
    "sub"
   ]
  },
  {
   "cell_type": "code",
   "execution_count": 11,
   "id": "60cab5df-0334-414d-a873-8b2802312ec2",
   "metadata": {},
   "outputs": [],
   "source": [
    "sub.to_csv('my_submission.csv', index=False)"
   ]
  },
  {
   "cell_type": "code",
   "execution_count": null,
   "id": "1841ae64-c554-48ba-846d-6a6781c10490",
   "metadata": {},
   "outputs": [],
   "source": []
  }
 ],
 "metadata": {
  "kernelspec": {
   "display_name": "Python 3 (ipykernel)",
   "language": "python",
   "name": "python3"
  },
  "language_info": {
   "codemirror_mode": {
    "name": "ipython",
    "version": 3
   },
   "file_extension": ".py",
   "mimetype": "text/x-python",
   "name": "python",
   "nbconvert_exporter": "python",
   "pygments_lexer": "ipython3",
   "version": "3.7.11"
  }
 },
 "nbformat": 4,
 "nbformat_minor": 5
}
