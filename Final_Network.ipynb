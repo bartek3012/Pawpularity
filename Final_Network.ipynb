{
 "cells": [
  {
   "cell_type": "code",
   "execution_count": 1,
   "id": "c3305885",
   "metadata": {
    "_cell_guid": "b1076dfc-b9ad-4769-8c92-a6c4dae69d19",
    "_uuid": "8f2839f25d086af736a60e9eeb907d3b93b6e0e5",
    "execution": {
     "iopub.execute_input": "2021-12-15T20:38:15.630691Z",
     "iopub.status.busy": "2021-12-15T20:38:15.629156Z",
     "iopub.status.idle": "2021-12-15T20:38:20.186366Z",
     "shell.execute_reply": "2021-12-15T20:38:20.185750Z",
     "shell.execute_reply.started": "2021-12-15T20:34:07.347682Z"
    },
    "papermill": {
     "duration": 4.571195,
     "end_time": "2021-12-15T20:38:20.186520",
     "exception": false,
     "start_time": "2021-12-15T20:38:15.615325",
     "status": "completed"
    },
    "tags": []
   },
   "outputs": [],
   "source": [
    "import tensorflow as tf\n",
    "import pandas as pd\n",
    "import tqdm\n",
    "import numpy as np\n",
    "import cv2\n",
    "from sklearn.model_selection import train_test_split\n",
    "import matplotlib.pyplot as plt"
   ]
  },
  {
   "cell_type": "code",
   "execution_count": 2,
   "id": "4fa2251f",
   "metadata": {
    "execution": {
     "iopub.execute_input": "2021-12-15T20:38:20.210555Z",
     "iopub.status.busy": "2021-12-15T20:38:20.209919Z",
     "iopub.status.idle": "2021-12-15T20:38:20.246623Z",
     "shell.execute_reply": "2021-12-15T20:38:20.245945Z",
     "shell.execute_reply.started": "2021-12-15T20:34:12.116518Z"
    },
    "papermill": {
     "duration": 0.049439,
     "end_time": "2021-12-15T20:38:20.246764",
     "exception": false,
     "start_time": "2021-12-15T20:38:20.197325",
     "status": "completed"
    },
    "tags": []
   },
   "outputs": [],
   "source": [
    "df= pd.read_csv(\"../input/petfinder-pawpularity-score/train.csv\")\n",
    "#df = df[:100]\n",
    "all_id = np.array(df['Id'])\n"
   ]
  },
  {
   "cell_type": "code",
   "execution_count": 3,
   "id": "8e3416bd",
   "metadata": {
    "execution": {
     "iopub.execute_input": "2021-12-15T20:38:20.270237Z",
     "iopub.status.busy": "2021-12-15T20:38:20.268736Z",
     "iopub.status.idle": "2021-12-15T20:38:20.270838Z",
     "shell.execute_reply": "2021-12-15T20:38:20.271243Z",
     "shell.execute_reply.started": "2021-12-15T20:34:12.158029Z"
    },
    "papermill": {
     "duration": 0.016486,
     "end_time": "2021-12-15T20:38:20.271361",
     "exception": false,
     "start_time": "2021-12-15T20:38:20.254875",
     "status": "completed"
    },
    "tags": []
   },
   "outputs": [],
   "source": [
    "def get_images_from_id(data_id, _type = 'train', img_size=128, colours=3):\n",
    "    pictures = np.zeros((len(data_id), img_size, img_size, colours))\n",
    "    for i, single_id in tqdm.tqdm(enumerate(data_id)):\n",
    "        img = cv2.cvtColor(cv2.imread(f\"../input/petfinder-pawpularity-score/{_type}/{single_id}.jpg\"), cv2.COLOR_BGR2RGB)\n",
    "        new_img = cv2.resize(img, (img_size, img_size))\n",
    "        pictures[i] = new_img/255\n",
    "    return pictures"
   ]
  },
  {
   "cell_type": "code",
   "execution_count": 4,
   "id": "cecbac66",
   "metadata": {
    "execution": {
     "iopub.execute_input": "2021-12-15T20:38:20.291499Z",
     "iopub.status.busy": "2021-12-15T20:38:20.290834Z",
     "iopub.status.idle": "2021-12-15T20:38:20.293335Z",
     "shell.execute_reply": "2021-12-15T20:38:20.292916Z",
     "shell.execute_reply.started": "2021-12-15T20:34:12.168046Z"
    },
    "papermill": {
     "duration": 0.013356,
     "end_time": "2021-12-15T20:38:20.293432",
     "exception": false,
     "start_time": "2021-12-15T20:38:20.280076",
     "status": "completed"
    },
    "tags": []
   },
   "outputs": [],
   "source": [
    "# y = df['Pawpularity']\n",
    "# X_image = get_images_from_id(df['Id'])\n",
    "# X_metadata = df.drop(columns=['Id', 'Pawpularity'])"
   ]
  },
  {
   "cell_type": "code",
   "execution_count": 5,
   "id": "3edf3f5d",
   "metadata": {
    "execution": {
     "iopub.execute_input": "2021-12-15T20:38:20.321481Z",
     "iopub.status.busy": "2021-12-15T20:38:20.316644Z",
     "iopub.status.idle": "2021-12-15T20:40:34.768545Z",
     "shell.execute_reply": "2021-12-15T20:40:34.768067Z",
     "shell.execute_reply.started": "2021-12-15T20:34:12.175703Z"
    },
    "papermill": {
     "duration": 134.467299,
     "end_time": "2021-12-15T20:40:34.768672",
     "exception": false,
     "start_time": "2021-12-15T20:38:20.301373",
     "status": "completed"
    },
    "tags": []
   },
   "outputs": [
    {
     "name": "stderr",
     "output_type": "stream",
     "text": [
      "7929it [01:47, 73.46it/s]\n",
      "1983it [00:26, 74.84it/s]\n"
     ]
    }
   ],
   "source": [
    "X_train_id, X_valid_id, y_train, y_valid = train_test_split(all_id, df['Pawpularity'], test_size=0.2, random_state=42)\n",
    "\n",
    "X_train_metadata = df[df['Id'].isin(X_train_id)]\n",
    "X_train_pictures = get_images_from_id(X_train_metadata['Id'])\n",
    "X_train_metadata = X_train_metadata.drop(columns=['Id', 'Pawpularity'])\n",
    "\n",
    "X_valid_metadata = df[df['Id'].isin(X_valid_id)]\n",
    "X_valid_pictures = get_images_from_id(X_valid_metadata['Id'])\n",
    "X_valid_metadata = X_valid_metadata.drop(columns=['Id', 'Pawpularity'])"
   ]
  },
  {
   "cell_type": "code",
   "execution_count": 6,
   "id": "b58096a3",
   "metadata": {
    "execution": {
     "iopub.execute_input": "2021-12-15T20:40:35.414158Z",
     "iopub.status.busy": "2021-12-15T20:40:35.413256Z",
     "iopub.status.idle": "2021-12-15T20:43:05.413008Z",
     "shell.execute_reply": "2021-12-15T20:43:05.412466Z",
     "shell.execute_reply.started": "2021-12-15T20:36:42.671120Z"
    },
    "papermill": {
     "duration": 150.331832,
     "end_time": "2021-12-15T20:43:05.413158",
     "exception": false,
     "start_time": "2021-12-15T20:40:35.081326",
     "status": "completed"
    },
    "tags": []
   },
   "outputs": [
    {
     "name": "stderr",
     "output_type": "stream",
     "text": [
      "2021-12-15 20:40:36.484784: I tensorflow/stream_executor/cuda/cuda_gpu_executor.cc:937] successful NUMA node read from SysFS had negative value (-1), but there must be at least one NUMA node, so returning NUMA node zero\n",
      "2021-12-15 20:40:36.570959: I tensorflow/stream_executor/cuda/cuda_gpu_executor.cc:937] successful NUMA node read from SysFS had negative value (-1), but there must be at least one NUMA node, so returning NUMA node zero\n",
      "2021-12-15 20:40:36.571784: I tensorflow/stream_executor/cuda/cuda_gpu_executor.cc:937] successful NUMA node read from SysFS had negative value (-1), but there must be at least one NUMA node, so returning NUMA node zero\n",
      "2021-12-15 20:40:36.573293: I tensorflow/core/platform/cpu_feature_guard.cc:142] This TensorFlow binary is optimized with oneAPI Deep Neural Network Library (oneDNN) to use the following CPU instructions in performance-critical operations:  AVX2 AVX512F FMA\n",
      "To enable them in other operations, rebuild TensorFlow with the appropriate compiler flags.\n",
      "2021-12-15 20:40:36.574496: I tensorflow/stream_executor/cuda/cuda_gpu_executor.cc:937] successful NUMA node read from SysFS had negative value (-1), but there must be at least one NUMA node, so returning NUMA node zero\n",
      "2021-12-15 20:40:36.575194: I tensorflow/stream_executor/cuda/cuda_gpu_executor.cc:937] successful NUMA node read from SysFS had negative value (-1), but there must be at least one NUMA node, so returning NUMA node zero\n",
      "2021-12-15 20:40:36.575819: I tensorflow/stream_executor/cuda/cuda_gpu_executor.cc:937] successful NUMA node read from SysFS had negative value (-1), but there must be at least one NUMA node, so returning NUMA node zero\n",
      "2021-12-15 20:40:38.529982: I tensorflow/stream_executor/cuda/cuda_gpu_executor.cc:937] successful NUMA node read from SysFS had negative value (-1), but there must be at least one NUMA node, so returning NUMA node zero\n",
      "2021-12-15 20:40:38.530814: I tensorflow/stream_executor/cuda/cuda_gpu_executor.cc:937] successful NUMA node read from SysFS had negative value (-1), but there must be at least one NUMA node, so returning NUMA node zero\n",
      "2021-12-15 20:40:38.531452: I tensorflow/stream_executor/cuda/cuda_gpu_executor.cc:937] successful NUMA node read from SysFS had negative value (-1), but there must be at least one NUMA node, so returning NUMA node zero\n",
      "2021-12-15 20:40:38.532045: I tensorflow/core/common_runtime/gpu/gpu_device.cc:1510] Created device /job:localhost/replica:0/task:0/device:GPU:0 with 15403 MB memory:  -> device: 0, name: Tesla P100-PCIE-16GB, pci bus id: 0000:00:04.0, compute capability: 6.0\n",
      "2021-12-15 20:40:39.570331: W tensorflow/core/framework/cpu_allocator_impl.cc:80] Allocation of 1558904832 exceeds 10% of free system memory.\n",
      "2021-12-15 20:40:41.158256: W tensorflow/core/framework/cpu_allocator_impl.cc:80] Allocation of 1558904832 exceeds 10% of free system memory.\n",
      "2021-12-15 20:40:42.450038: I tensorflow/compiler/mlir/mlir_graph_optimization_pass.cc:185] None of the MLIR Optimization Passes are enabled (registered 2)\n"
     ]
    },
    {
     "name": "stdout",
     "output_type": "stream",
     "text": [
      "Epoch 1/300\n"
     ]
    },
    {
     "name": "stderr",
     "output_type": "stream",
     "text": [
      "2021-12-15 20:40:44.882831: I tensorflow/stream_executor/cuda/cuda_dnn.cc:369] Loaded cuDNN version 8005\n"
     ]
    },
    {
     "name": "stdout",
     "output_type": "stream",
     "text": [
      "248/248 [==============================] - 12s 20ms/step - loss: 443.3105 - mse: 443.1954 - val_loss: 443.0354 - val_mse: 442.9291\n",
      "Epoch 2/300\n",
      "248/248 [==============================] - 4s 14ms/step - loss: 427.1006 - mse: 426.9981 - val_loss: 450.9721 - val_mse: 450.8731\n",
      "Epoch 3/300\n",
      "248/248 [==============================] - 4s 14ms/step - loss: 423.7669 - mse: 423.6697 - val_loss: 442.3089 - val_mse: 442.2135\n",
      "Epoch 4/300\n",
      "248/248 [==============================] - 4s 15ms/step - loss: 666.3552 - mse: 666.2595 - val_loss: 442.3569 - val_mse: 442.2610\n",
      "Epoch 5/300\n",
      "248/248 [==============================] - 4s 15ms/step - loss: 424.5309 - mse: 424.4351 - val_loss: 442.4814 - val_mse: 442.3849\n",
      "Epoch 6/300\n",
      "248/248 [==============================] - 4s 15ms/step - loss: 421.5414 - mse: 421.4441 - val_loss: 446.0768 - val_mse: 445.9793\n",
      "Epoch 7/300\n",
      "248/248 [==============================] - 4s 15ms/step - loss: 420.9593 - mse: 420.8610 - val_loss: 444.2562 - val_mse: 444.1568\n",
      "Epoch 8/300\n",
      "248/248 [==============================] - 4s 14ms/step - loss: 423.4299 - mse: 423.3295 - val_loss: 442.9949 - val_mse: 442.8933\n",
      "Epoch 9/300\n",
      "248/248 [==============================] - 3s 14ms/step - loss: 421.9366 - mse: 421.8338 - val_loss: 442.6075 - val_mse: 442.5026\n",
      "Epoch 10/300\n",
      "248/248 [==============================] - 4s 15ms/step - loss: 424.0089 - mse: 423.9027 - val_loss: 442.5503 - val_mse: 442.4436\n",
      "Epoch 11/300\n",
      "248/248 [==============================] - 4s 14ms/step - loss: 423.4328 - mse: 423.3242 - val_loss: 443.1046 - val_mse: 442.9948\n",
      "Epoch 12/300\n",
      "248/248 [==============================] - 3s 14ms/step - loss: 424.8549 - mse: 424.7436 - val_loss: 443.6550 - val_mse: 443.5423\n",
      "Epoch 13/300\n",
      "248/248 [==============================] - 4s 16ms/step - loss: 422.5067 - mse: 422.3918 - val_loss: 441.9455 - val_mse: 441.8297\n",
      "Epoch 14/300\n",
      "248/248 [==============================] - 3s 14ms/step - loss: 423.3188 - mse: 423.2014 - val_loss: 443.0192 - val_mse: 442.9008\n",
      "Epoch 15/300\n",
      "248/248 [==============================] - 4s 15ms/step - loss: 421.3840 - mse: 421.2634 - val_loss: 442.6637 - val_mse: 442.5421\n",
      "Epoch 16/300\n",
      "248/248 [==============================] - 4s 15ms/step - loss: 420.6619 - mse: 420.5392 - val_loss: 443.3411 - val_mse: 443.2165\n",
      "Epoch 17/300\n",
      "248/248 [==============================] - 3s 14ms/step - loss: 420.3058 - mse: 420.1802 - val_loss: 446.1351 - val_mse: 446.0076\n",
      "Epoch 18/300\n",
      "248/248 [==============================] - 3s 14ms/step - loss: 421.2042 - mse: 421.0748 - val_loss: 442.5239 - val_mse: 442.3934\n",
      "Epoch 19/300\n",
      "248/248 [==============================] - 4s 15ms/step - loss: 422.0403 - mse: 421.9088 - val_loss: 442.2484 - val_mse: 442.1148\n",
      "Epoch 20/300\n",
      "248/248 [==============================] - 4s 15ms/step - loss: 420.6740 - mse: 420.5390 - val_loss: 444.5013 - val_mse: 444.3647\n",
      "Epoch 21/300\n",
      "248/248 [==============================] - 4s 14ms/step - loss: 423.0229 - mse: 422.8855 - val_loss: 442.7987 - val_mse: 442.6593\n",
      "Epoch 22/300\n",
      "248/248 [==============================] - 4s 15ms/step - loss: 421.9135 - mse: 421.7731 - val_loss: 443.4152 - val_mse: 443.2727\n",
      "Epoch 23/300\n",
      "248/248 [==============================] - 4s 14ms/step - loss: 420.6168 - mse: 420.4722 - val_loss: 449.7037 - val_mse: 449.5591\n"
     ]
    }
   ],
   "source": [
    "tf.random.set_seed(42)\n",
    "IMG_SIZE = 128\n",
    "\n",
    "\n",
    "input_image = tf.keras.Input((IMG_SIZE, IMG_SIZE, 3)) # Wejście na zdjęcia 128X128x3\n",
    "input_metadata = tf.keras.Input(X_train_metadata.shape[1]) # Wejście na metadane 13 kategorii\n",
    "\n",
    "image_conv2D_1 = tf.keras.layers.Conv2D(8, 3, activation=tf.keras.activations.selu, padding='same')(input_image)\n",
    "image_conv2D_2 = tf.keras.layers.Conv2D(8, 3, activation=tf.keras.activations.selu, padding='same')(image_conv2D_1)\n",
    "image_maxpool2D_1 = tf.keras.layers.MaxPooling2D(2)(image_conv2D_2)\n",
    "\n",
    "image_conv2D_3 = tf.keras.layers.Conv2D(16, 3, activation=tf.keras.activations.selu, padding='same')(image_maxpool2D_1)\n",
    "image_conv2D_4 = tf.keras.layers.Conv2D(16, 3, activation=tf.keras.activations.selu, padding='same')(image_conv2D_3)\n",
    "image_maxpool2D_2 = tf.keras.layers.MaxPooling2D(2)(image_conv2D_4)\n",
    "\n",
    "image_conv2D_5 = tf.keras.layers.Conv2D(32, 3, activation=tf.keras.activations.selu, padding='same')(image_maxpool2D_2)\n",
    "image_conv2D_6 = tf.keras.layers.Conv2D(32, 3, activation=tf.keras.activations.selu, padding='same')(image_conv2D_5)\n",
    "image_maxpool2D_3 = tf.keras.layers.MaxPooling2D(2)(image_conv2D_6)\n",
    "\n",
    "image_conv2D_7 = tf.keras.layers.Conv2D(64, 3, activation=tf.keras.activations.selu, padding='same')(image_maxpool2D_3)\n",
    "image_conv2D_8 = tf.keras.layers.Conv2D(64, 3, activation=tf.keras.activations.selu, padding='same')(image_conv2D_7)\n",
    "image_maxpool2D_4 = tf.keras.layers.MaxPooling2D(2)(image_conv2D_8)\n",
    "\n",
    "image_conv2D_9 = tf.keras.layers.Conv2D(128, 3, activation=tf.keras.activations.selu, padding='same')(image_maxpool2D_4)\n",
    "image_conv2D_10 = tf.keras.layers.Conv2D(128, 3, activation=tf.keras.activations.selu, padding='same')(image_conv2D_9)\n",
    "image_maxpool2D_5 = tf.keras.layers.MaxPooling2D(2)(image_conv2D_10) \n",
    "flatten = tf.keras.layers.GlobalAveragePooling2D()(image_maxpool2D_5) #Podobne działanie do Flatten\n",
    "\n",
    "metadata_dense_1 = tf.keras.layers.Dense(16, activation=\"relu\", kernel_regularizer=tf.keras.regularizers.l2())(input_metadata)\n",
    "\n",
    "concat = tf.keras.layers.concatenate([flatten, metadata_dense_1])\n",
    "output = tf.keras.layers.Dense(1)(concat)\n",
    "model = tf.keras.Model(inputs=[input_image, input_metadata], outputs=[output])\n",
    "\n",
    "model.compile(loss=tf.keras.losses.MeanSquaredError(), optimizer=tf.keras.optimizers.Adam(1e-3), metrics=[\"mse\"])\n",
    "\n",
    "checkpoint_cb = tf.keras.callbacks.ModelCheckpoint('best_model.h5', save_best_only=True)\n",
    "early_stopping_cb = tf.keras.callbacks.EarlyStopping(patience=10, restore_best_weights=True)\n",
    "\n",
    "history_1 = model.fit((X_train_pictures, X_train_metadata), y_train, epochs=300, validation_data=((X_valid_pictures, X_valid_metadata), y_valid), callbacks=[checkpoint_cb, early_stopping_cb])\n",
    "\n",
    "model = tf.keras.models.load_model('best_model.h5')"
   ]
  },
  {
   "cell_type": "code",
   "execution_count": 7,
   "id": "e7852211",
   "metadata": {
    "execution": {
     "iopub.execute_input": "2021-12-15T20:43:06.758980Z",
     "iopub.status.busy": "2021-12-15T20:43:06.758293Z",
     "iopub.status.idle": "2021-12-15T20:43:06.817057Z",
     "shell.execute_reply": "2021-12-15T20:43:06.818006Z",
     "shell.execute_reply.started": "2021-12-15T20:37:47.736548Z"
    },
    "papermill": {
     "duration": 0.741666,
     "end_time": "2021-12-15T20:43:06.818195",
     "exception": false,
     "start_time": "2021-12-15T20:43:06.076529",
     "status": "completed"
    },
    "tags": []
   },
   "outputs": [
    {
     "name": "stderr",
     "output_type": "stream",
     "text": [
      "8it [00:00, 173.84it/s]\n"
     ]
    }
   ],
   "source": [
    "df_test =  pd.read_csv(\"../input/petfinder-pawpularity-score/test.csv\")\n",
    "X_images_test = get_images_from_id(df_test['Id'], 'test')\n",
    "X_metadata_test = df_test.drop(columns=['Id'])"
   ]
  },
  {
   "cell_type": "code",
   "execution_count": 8,
   "id": "0872d6f5",
   "metadata": {
    "execution": {
     "iopub.execute_input": "2021-12-15T20:43:08.326568Z",
     "iopub.status.busy": "2021-12-15T20:43:08.325811Z",
     "iopub.status.idle": "2021-12-15T20:43:08.584163Z",
     "shell.execute_reply": "2021-12-15T20:43:08.583666Z",
     "shell.execute_reply.started": "2021-12-15T20:37:47.799693Z"
    },
    "papermill": {
     "duration": 0.99989,
     "end_time": "2021-12-15T20:43:08.584313",
     "exception": false,
     "start_time": "2021-12-15T20:43:07.584423",
     "status": "completed"
    },
    "tags": []
   },
   "outputs": [
    {
     "data": {
      "text/html": [
       "<div>\n",
       "<style scoped>\n",
       "    .dataframe tbody tr th:only-of-type {\n",
       "        vertical-align: middle;\n",
       "    }\n",
       "\n",
       "    .dataframe tbody tr th {\n",
       "        vertical-align: top;\n",
       "    }\n",
       "\n",
       "    .dataframe thead th {\n",
       "        text-align: right;\n",
       "    }\n",
       "</style>\n",
       "<table border=\"1\" class=\"dataframe\">\n",
       "  <thead>\n",
       "    <tr style=\"text-align: right;\">\n",
       "      <th></th>\n",
       "      <th>Id</th>\n",
       "      <th>Subject Focus</th>\n",
       "      <th>Eyes</th>\n",
       "      <th>Face</th>\n",
       "      <th>Near</th>\n",
       "      <th>Action</th>\n",
       "      <th>Accessory</th>\n",
       "      <th>Group</th>\n",
       "      <th>Collage</th>\n",
       "      <th>Human</th>\n",
       "      <th>Occlusion</th>\n",
       "      <th>Info</th>\n",
       "      <th>Blur</th>\n",
       "      <th>Pawpularity</th>\n",
       "    </tr>\n",
       "  </thead>\n",
       "  <tbody>\n",
       "    <tr>\n",
       "      <th>0</th>\n",
       "      <td>4128bae22183829d2b5fea10effdb0c3</td>\n",
       "      <td>1</td>\n",
       "      <td>0</td>\n",
       "      <td>1</td>\n",
       "      <td>0</td>\n",
       "      <td>0</td>\n",
       "      <td>1</td>\n",
       "      <td>1</td>\n",
       "      <td>0</td>\n",
       "      <td>0</td>\n",
       "      <td>1</td>\n",
       "      <td>0</td>\n",
       "      <td>1</td>\n",
       "      <td>37.551666</td>\n",
       "    </tr>\n",
       "    <tr>\n",
       "      <th>1</th>\n",
       "      <td>43a2262d7738e3d420d453815151079e</td>\n",
       "      <td>0</td>\n",
       "      <td>1</td>\n",
       "      <td>0</td>\n",
       "      <td>0</td>\n",
       "      <td>0</td>\n",
       "      <td>0</td>\n",
       "      <td>1</td>\n",
       "      <td>1</td>\n",
       "      <td>0</td>\n",
       "      <td>0</td>\n",
       "      <td>0</td>\n",
       "      <td>0</td>\n",
       "      <td>37.967136</td>\n",
       "    </tr>\n",
       "    <tr>\n",
       "      <th>2</th>\n",
       "      <td>4e429cead1848a298432a0acad014c9d</td>\n",
       "      <td>0</td>\n",
       "      <td>0</td>\n",
       "      <td>0</td>\n",
       "      <td>1</td>\n",
       "      <td>0</td>\n",
       "      <td>1</td>\n",
       "      <td>1</td>\n",
       "      <td>1</td>\n",
       "      <td>0</td>\n",
       "      <td>1</td>\n",
       "      <td>1</td>\n",
       "      <td>1</td>\n",
       "      <td>38.781410</td>\n",
       "    </tr>\n",
       "    <tr>\n",
       "      <th>3</th>\n",
       "      <td>80bc3ccafcc51b66303c2c263aa38486</td>\n",
       "      <td>1</td>\n",
       "      <td>0</td>\n",
       "      <td>1</td>\n",
       "      <td>0</td>\n",
       "      <td>0</td>\n",
       "      <td>0</td>\n",
       "      <td>0</td>\n",
       "      <td>0</td>\n",
       "      <td>0</td>\n",
       "      <td>0</td>\n",
       "      <td>1</td>\n",
       "      <td>0</td>\n",
       "      <td>38.630039</td>\n",
       "    </tr>\n",
       "    <tr>\n",
       "      <th>4</th>\n",
       "      <td>8f49844c382931444e68dffbe20228f4</td>\n",
       "      <td>1</td>\n",
       "      <td>1</td>\n",
       "      <td>1</td>\n",
       "      <td>0</td>\n",
       "      <td>1</td>\n",
       "      <td>1</td>\n",
       "      <td>0</td>\n",
       "      <td>1</td>\n",
       "      <td>0</td>\n",
       "      <td>1</td>\n",
       "      <td>1</td>\n",
       "      <td>0</td>\n",
       "      <td>40.962891</td>\n",
       "    </tr>\n",
       "    <tr>\n",
       "      <th>5</th>\n",
       "      <td>b03f7041962238a7c9d6537e22f9b017</td>\n",
       "      <td>0</td>\n",
       "      <td>0</td>\n",
       "      <td>1</td>\n",
       "      <td>1</td>\n",
       "      <td>1</td>\n",
       "      <td>1</td>\n",
       "      <td>1</td>\n",
       "      <td>1</td>\n",
       "      <td>1</td>\n",
       "      <td>0</td>\n",
       "      <td>1</td>\n",
       "      <td>0</td>\n",
       "      <td>40.982422</td>\n",
       "    </tr>\n",
       "    <tr>\n",
       "      <th>6</th>\n",
       "      <td>c978013571258ed6d4637f6e8cc9d6a3</td>\n",
       "      <td>1</td>\n",
       "      <td>0</td>\n",
       "      <td>0</td>\n",
       "      <td>0</td>\n",
       "      <td>1</td>\n",
       "      <td>1</td>\n",
       "      <td>0</td>\n",
       "      <td>1</td>\n",
       "      <td>0</td>\n",
       "      <td>1</td>\n",
       "      <td>1</td>\n",
       "      <td>1</td>\n",
       "      <td>40.192234</td>\n",
       "    </tr>\n",
       "    <tr>\n",
       "      <th>7</th>\n",
       "      <td>e0de453c1bffc20c22b072b34b54e50f</td>\n",
       "      <td>1</td>\n",
       "      <td>0</td>\n",
       "      <td>1</td>\n",
       "      <td>0</td>\n",
       "      <td>0</td>\n",
       "      <td>0</td>\n",
       "      <td>0</td>\n",
       "      <td>0</td>\n",
       "      <td>1</td>\n",
       "      <td>0</td>\n",
       "      <td>0</td>\n",
       "      <td>1</td>\n",
       "      <td>37.499016</td>\n",
       "    </tr>\n",
       "  </tbody>\n",
       "</table>\n",
       "</div>"
      ],
      "text/plain": [
       "                                 Id  Subject Focus  Eyes  Face  Near  Action  \\\n",
       "0  4128bae22183829d2b5fea10effdb0c3              1     0     1     0       0   \n",
       "1  43a2262d7738e3d420d453815151079e              0     1     0     0       0   \n",
       "2  4e429cead1848a298432a0acad014c9d              0     0     0     1       0   \n",
       "3  80bc3ccafcc51b66303c2c263aa38486              1     0     1     0       0   \n",
       "4  8f49844c382931444e68dffbe20228f4              1     1     1     0       1   \n",
       "5  b03f7041962238a7c9d6537e22f9b017              0     0     1     1       1   \n",
       "6  c978013571258ed6d4637f6e8cc9d6a3              1     0     0     0       1   \n",
       "7  e0de453c1bffc20c22b072b34b54e50f              1     0     1     0       0   \n",
       "\n",
       "   Accessory  Group  Collage  Human  Occlusion  Info  Blur  Pawpularity  \n",
       "0          1      1        0      0          1     0     1    37.551666  \n",
       "1          0      1        1      0          0     0     0    37.967136  \n",
       "2          1      1        1      0          1     1     1    38.781410  \n",
       "3          0      0        0      0          0     1     0    38.630039  \n",
       "4          1      0        1      0          1     1     0    40.962891  \n",
       "5          1      1        1      1          0     1     0    40.982422  \n",
       "6          1      0        1      0          1     1     1    40.192234  \n",
       "7          0      0        0      1          0     0     1    37.499016  "
      ]
     },
     "execution_count": 8,
     "metadata": {},
     "output_type": "execute_result"
    }
   ],
   "source": [
    "pred = model.predict((X_images_test, X_metadata_test))\n",
    "df_test['Pawpularity'] = pred\n",
    "df_test"
   ]
  },
  {
   "cell_type": "code",
   "execution_count": 9,
   "id": "3e77de0a",
   "metadata": {
    "execution": {
     "iopub.execute_input": "2021-12-15T20:43:09.973576Z",
     "iopub.status.busy": "2021-12-15T20:43:09.972691Z",
     "iopub.status.idle": "2021-12-15T20:43:09.982455Z",
     "shell.execute_reply": "2021-12-15T20:43:09.982939Z",
     "shell.execute_reply.started": "2021-12-15T20:37:48.032843Z"
    },
    "papermill": {
     "duration": 0.677589,
     "end_time": "2021-12-15T20:43:09.983088",
     "exception": false,
     "start_time": "2021-12-15T20:43:09.305499",
     "status": "completed"
    },
    "tags": []
   },
   "outputs": [
    {
     "data": {
      "text/html": [
       "<div>\n",
       "<style scoped>\n",
       "    .dataframe tbody tr th:only-of-type {\n",
       "        vertical-align: middle;\n",
       "    }\n",
       "\n",
       "    .dataframe tbody tr th {\n",
       "        vertical-align: top;\n",
       "    }\n",
       "\n",
       "    .dataframe thead th {\n",
       "        text-align: right;\n",
       "    }\n",
       "</style>\n",
       "<table border=\"1\" class=\"dataframe\">\n",
       "  <thead>\n",
       "    <tr style=\"text-align: right;\">\n",
       "      <th></th>\n",
       "      <th>Id</th>\n",
       "      <th>Pawpularity</th>\n",
       "    </tr>\n",
       "  </thead>\n",
       "  <tbody>\n",
       "    <tr>\n",
       "      <th>0</th>\n",
       "      <td>4128bae22183829d2b5fea10effdb0c3</td>\n",
       "      <td>37.551666</td>\n",
       "    </tr>\n",
       "    <tr>\n",
       "      <th>1</th>\n",
       "      <td>43a2262d7738e3d420d453815151079e</td>\n",
       "      <td>37.967136</td>\n",
       "    </tr>\n",
       "    <tr>\n",
       "      <th>2</th>\n",
       "      <td>4e429cead1848a298432a0acad014c9d</td>\n",
       "      <td>38.781410</td>\n",
       "    </tr>\n",
       "    <tr>\n",
       "      <th>3</th>\n",
       "      <td>80bc3ccafcc51b66303c2c263aa38486</td>\n",
       "      <td>38.630039</td>\n",
       "    </tr>\n",
       "    <tr>\n",
       "      <th>4</th>\n",
       "      <td>8f49844c382931444e68dffbe20228f4</td>\n",
       "      <td>40.962891</td>\n",
       "    </tr>\n",
       "    <tr>\n",
       "      <th>5</th>\n",
       "      <td>b03f7041962238a7c9d6537e22f9b017</td>\n",
       "      <td>40.982422</td>\n",
       "    </tr>\n",
       "    <tr>\n",
       "      <th>6</th>\n",
       "      <td>c978013571258ed6d4637f6e8cc9d6a3</td>\n",
       "      <td>40.192234</td>\n",
       "    </tr>\n",
       "    <tr>\n",
       "      <th>7</th>\n",
       "      <td>e0de453c1bffc20c22b072b34b54e50f</td>\n",
       "      <td>37.499016</td>\n",
       "    </tr>\n",
       "  </tbody>\n",
       "</table>\n",
       "</div>"
      ],
      "text/plain": [
       "                                 Id  Pawpularity\n",
       "0  4128bae22183829d2b5fea10effdb0c3    37.551666\n",
       "1  43a2262d7738e3d420d453815151079e    37.967136\n",
       "2  4e429cead1848a298432a0acad014c9d    38.781410\n",
       "3  80bc3ccafcc51b66303c2c263aa38486    38.630039\n",
       "4  8f49844c382931444e68dffbe20228f4    40.962891\n",
       "5  b03f7041962238a7c9d6537e22f9b017    40.982422\n",
       "6  c978013571258ed6d4637f6e8cc9d6a3    40.192234\n",
       "7  e0de453c1bffc20c22b072b34b54e50f    37.499016"
      ]
     },
     "execution_count": 9,
     "metadata": {},
     "output_type": "execute_result"
    }
   ],
   "source": [
    "submission_df = df_test[['Id','Pawpularity']]\n",
    "submission_df.to_csv(\"submission.csv\", index=False)\n",
    "submission_df"
   ]
  },
  {
   "cell_type": "code",
   "execution_count": null,
   "id": "4c7ad8d4",
   "metadata": {
    "papermill": {
     "duration": 0.659903,
     "end_time": "2021-12-15T20:43:11.337960",
     "exception": false,
     "start_time": "2021-12-15T20:43:10.678057",
     "status": "completed"
    },
    "tags": []
   },
   "outputs": [],
   "source": []
  },
  {
   "cell_type": "code",
   "execution_count": null,
   "id": "ba179ae3",
   "metadata": {
    "papermill": {
     "duration": 0.659538,
     "end_time": "2021-12-15T20:43:12.655382",
     "exception": false,
     "start_time": "2021-12-15T20:43:11.995844",
     "status": "completed"
    },
    "tags": []
   },
   "outputs": [],
   "source": []
  }
 ],
 "metadata": {
  "kernelspec": {
   "display_name": "Python 3",
   "language": "python",
   "name": "python3"
  },
  "language_info": {
   "codemirror_mode": {
    "name": "ipython",
    "version": 3
   },
   "file_extension": ".py",
   "mimetype": "text/x-python",
   "name": "python",
   "nbconvert_exporter": "python",
   "pygments_lexer": "ipython3",
   "version": "3.7.10"
  },
  "papermill": {
   "default_parameters": {},
   "duration": 308.601673,
   "end_time": "2021-12-15T20:43:16.710744",
   "environment_variables": {},
   "exception": null,
   "input_path": "__notebook__.ipynb",
   "output_path": "__notebook__.ipynb",
   "parameters": {},
   "start_time": "2021-12-15T20:38:08.109071",
   "version": "2.3.3"
  }
 },
 "nbformat": 4,
 "nbformat_minor": 5
}
