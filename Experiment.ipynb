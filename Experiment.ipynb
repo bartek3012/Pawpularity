{
 "cells": [
  {
   "cell_type": "code",
   "execution_count": 1,
   "id": "68776c3c-8b46-412d-8b89-38c49639aeb6",
   "metadata": {},
   "outputs": [],
   "source": [
    "import tensorflow as tf\n",
    "import pandas as pd\n",
    "from PIL import Image\n",
    "import numpy as np\n",
    "import matplotlib.pyplot as plt\n",
    "import tqdm\n",
    "import os\n",
    "import cv2\n",
    "from sklearn.model_selection import train_test_split\n",
    "from sklearn.metrics import mean_squared_error"
   ]
  },
  {
   "cell_type": "code",
   "execution_count": 2,
   "id": "cb8c3381-98f5-4a5a-8676-6bd968e7a710",
   "metadata": {},
   "outputs": [
    {
     "data": {
      "text/plain": [
       "[PhysicalDevice(name='/physical_device:GPU:0', device_type='GPU')]"
      ]
     },
     "execution_count": 2,
     "metadata": {},
     "output_type": "execute_result"
    }
   ],
   "source": [
    "tf.config.experimental.list_physical_devices('GPU')"
   ]
  },
  {
   "cell_type": "code",
   "execution_count": 3,
   "id": "980e89db-8d59-4b2d-a208-a7088e2ad855",
   "metadata": {},
   "outputs": [
    {
     "name": "stdout",
     "output_type": "stream",
     "text": [
      "1 Physical GPUs, 1 Logical GPUs\n"
     ]
    }
   ],
   "source": [
    "gpus = tf.config.experimental.list_physical_devices('GPU')\n",
    "if gpus:\n",
    "    try:\n",
    "        # Currently, memory growth needs to be the same across GPUs\n",
    "        for gpu in gpus:\n",
    "            tf.config.experimental.set_memory_growth(gpu, True)\n",
    "            logical_gpus = tf.config.experimental.list_logical_devices('GPU')\n",
    "            print(len(gpus), 'Physical GPUs,', len(logical_gpus), 'Logical GPUs')\n",
    "    except RuntimeError as e:\n",
    "    # Memory growth must be set before GPUs have been initialized\n",
    "        print(e)\n"
   ]
  },
  {
   "cell_type": "code",
   "execution_count": 4,
   "id": "03cfea3b-a575-4102-9286-360ce2bd3c84",
   "metadata": {},
   "outputs": [
    {
     "data": {
      "text/plain": [
       "9912"
      ]
     },
     "execution_count": 4,
     "metadata": {},
     "output_type": "execute_result"
    }
   ],
   "source": [
    "df= pd.read_csv('Data/train.csv')\n",
    "#df = df[:100]\n",
    "all_id = np.array(df['Id'])\n",
    "len(all_id)"
   ]
  },
  {
   "cell_type": "code",
   "execution_count": 5,
   "id": "e12e9da1-cf97-49b8-bbcc-ba21c4a43a26",
   "metadata": {},
   "outputs": [],
   "source": [
    "IMG_SIZE = 128\n",
    "colours = 3\n"
   ]
  },
  {
   "cell_type": "code",
   "execution_count": 6,
   "id": "ae7d222a-933f-46fa-aa0b-258cdafa7d8d",
   "metadata": {},
   "outputs": [],
   "source": [
    "def get_images_from_id(data_id, img_size=128, colours=3):\n",
    "    pictures = np.zeros((len(data_id), IMG_SIZE, IMG_SIZE, colours))\n",
    "    for i, single_id in tqdm.tqdm(enumerate(data_id)):\n",
    "        img = cv2.cvtColor(cv2.imread(f\"Data/train/{single_id}.jpg\"), cv2.COLOR_BGR2RGB)\n",
    "        new_img = cv2.resize(img, (IMG_SIZE, IMG_SIZE))\n",
    "        pictures[i] = new_img/255\n",
    "    return pictures\n",
    "#     plt.imshow(pictures[i])\n",
    "#     plt.savefig(f'picture{i}.png')"
   ]
  },
  {
   "cell_type": "code",
   "execution_count": 7,
   "id": "bd54f2ea-d4dd-4b8d-96b8-5cf7a285e903",
   "metadata": {},
   "outputs": [],
   "source": [
    "X_train_full_id, X_test_id, y_train_full, y_test = train_test_split(all_id, df['Pawpularity'], test_size=0.2, random_state=42)\n",
    "X_train_id, X_valid_id, y_train, y_valid = train_test_split(X_train_full_id, y_train_full, test_size=0.25, random_state=42)"
   ]
  },
  {
   "cell_type": "code",
   "execution_count": 8,
   "id": "8997f998-68b6-4a93-8606-b918094dcf2e",
   "metadata": {},
   "outputs": [
    {
     "name": "stderr",
     "output_type": "stream",
     "text": [
      "5946it [00:46, 128.74it/s]\n",
      "1983it [00:15, 124.81it/s]\n",
      "1983it [00:15, 124.73it/s]\n"
     ]
    },
    {
     "data": {
      "text/plain": [
       "13"
      ]
     },
     "execution_count": 8,
     "metadata": {},
     "output_type": "execute_result"
    }
   ],
   "source": [
    "X_train_metadata = df[df['Id'].isin(X_train_id)]\n",
    "X_train_pictures = get_images_from_id(X_train_metadata['Id'])\n",
    "X_train_metadata = X_train_metadata.drop(columns=['Id'])\n",
    "\n",
    "X_test_metadata = df[df['Id'].isin(X_test_id)]\n",
    "X_test_pictures = get_images_from_id(X_test_metadata['Id'])\n",
    "X_test_metadata = X_test_metadata.drop(columns=['Id'])\n",
    "\n",
    "X_valid_metadata = df[df['Id'].isin(X_valid_id)]\n",
    "X_valid_pictures = get_images_from_id(X_valid_metadata['Id'])\n",
    "X_valid_metadata = X_valid_metadata.drop(columns=['Id'])\n",
    "X_train_metadata.shape[1]"
   ]
  },
  {
   "cell_type": "code",
   "execution_count": 9,
   "id": "a9f1c5b8-61aa-4758-a41c-e449a52d1069",
   "metadata": {},
   "outputs": [
    {
     "name": "stdout",
     "output_type": "stream",
     "text": [
      "Failed to import pydot. You must install pydot and graphviz for `pydotprint` to work.\n",
      "Train on 5946 samples, validate on 1983 samples\n",
      "Epoch 1/50\n",
      "5946/5946 [==============================] - 11s 2ms/sample - loss: 485.5304 - mse: 485.4052 - val_loss: 458.5341 - val_mse: 458.4301\n",
      "Epoch 2/50\n",
      "5946/5946 [==============================] - 6s 1ms/sample - loss: 428.4567 - mse: 428.3625 - val_loss: 525.2681 - val_mse: 525.1813\n",
      "Epoch 3/50\n",
      "5946/5946 [==============================] - 6s 1ms/sample - loss: 424.1227 - mse: 424.0396 - val_loss: 451.2584 - val_mse: 451.1786\n",
      "Epoch 4/50\n",
      "5946/5946 [==============================] - 6s 1ms/sample - loss: 423.5323 - mse: 423.4546 - val_loss: 450.0515 - val_mse: 449.9758\n",
      "Epoch 5/50\n",
      "5946/5946 [==============================] - 6s 1ms/sample - loss: 419.4030 - mse: 419.3286 - val_loss: 449.9097 - val_mse: 449.8365\n",
      "Epoch 6/50\n",
      "5946/5946 [==============================] - 6s 1ms/sample - loss: 419.1281 - mse: 419.0560 - val_loss: 459.8825 - val_mse: 459.8112\n",
      "Epoch 7/50\n",
      "5946/5946 [==============================] - 6s 1ms/sample - loss: 414.8943 - mse: 414.8238 - val_loss: 463.7421 - val_mse: 463.6724\n",
      "Epoch 8/50\n",
      "5946/5946 [==============================] - 6s 1ms/sample - loss: 419.3545 - mse: 419.2856 - val_loss: 460.4959 - val_mse: 460.4276\n",
      "Epoch 9/50\n",
      "5946/5946 [==============================] - 6s 1ms/sample - loss: 418.4291 - mse: 418.3615 - val_loss: 450.8094 - val_mse: 450.7422\n",
      "Epoch 10/50\n",
      "5946/5946 [==============================] - 6s 1ms/sample - loss: 413.9424 - mse: 413.8758 - val_loss: 450.3526 - val_mse: 450.2862\n",
      "Epoch 11/50\n",
      "5946/5946 [==============================] - 6s 1ms/sample - loss: 414.5492 - mse: 414.4831 - val_loss: 456.5505 - val_mse: 456.4850\n",
      "Epoch 12/50\n",
      "5946/5946 [==============================] - 7s 1ms/sample - loss: 417.8754 - mse: 417.8105 - val_loss: 461.8454 - val_mse: 461.7809\n",
      "Epoch 13/50\n",
      "5946/5946 [==============================] - 7s 1ms/sample - loss: 414.5390 - mse: 414.4751 - val_loss: 449.4725 - val_mse: 449.4089\n",
      "Epoch 14/50\n",
      "5946/5946 [==============================] - 7s 1ms/sample - loss: 416.4664 - mse: 416.4033 - val_loss: 461.8507 - val_mse: 461.7881\n",
      "Epoch 15/50\n",
      "5946/5946 [==============================] - 7s 1ms/sample - loss: 417.3606 - mse: 417.2984 - val_loss: 455.4304 - val_mse: 455.3687\n",
      "Epoch 16/50\n",
      "5946/5946 [==============================] - 7s 1ms/sample - loss: 412.3238 - mse: 412.2626 - val_loss: 452.5408 - val_mse: 452.4798\n",
      "Epoch 17/50\n",
      "5946/5946 [==============================] - 6s 1ms/sample - loss: 413.5919 - mse: 413.5315 - val_loss: 460.6245 - val_mse: 460.5647\n",
      "Epoch 18/50\n",
      "5946/5946 [==============================] - 6s 1ms/sample - loss: 414.7249 - mse: 414.6651 - val_loss: 449.3202 - val_mse: 449.2611\n",
      "Epoch 19/50\n",
      "5946/5946 [==============================] - 6s 1ms/sample - loss: 412.2352 - mse: 412.1766 - val_loss: 453.1722 - val_mse: 453.1142\n",
      "Epoch 20/50\n",
      "5946/5946 [==============================] - 7s 1ms/sample - loss: 416.0468 - mse: 415.9894 - val_loss: 455.2169 - val_mse: 455.1599\n",
      "Epoch 21/50\n",
      "5946/5946 [==============================] - 6s 1ms/sample - loss: 416.9457 - mse: 416.8893 - val_loss: 457.5206 - val_mse: 457.4647\n",
      "Epoch 22/50\n",
      "5946/5946 [==============================] - 6s 1ms/sample - loss: 412.7974 - mse: 412.7419 - val_loss: 449.2105 - val_mse: 449.1554\n",
      "Epoch 23/50\n",
      "5946/5946 [==============================] - 6s 1ms/sample - loss: 414.6906 - mse: 414.6357 - val_loss: 451.7241 - val_mse: 451.6692\n",
      "Epoch 24/50\n",
      "5946/5946 [==============================] - 6s 1ms/sample - loss: 413.9809 - mse: 413.9260 - val_loss: 449.6299 - val_mse: 449.5753\n",
      "Epoch 25/50\n",
      "5946/5946 [==============================] - 7s 1ms/sample - loss: 413.2129 - mse: 413.1585 - val_loss: 455.6773 - val_mse: 455.6230\n",
      "Epoch 26/50\n",
      "5946/5946 [==============================] - 7s 1ms/sample - loss: 413.3854 - mse: 413.3317 - val_loss: 451.1676 - val_mse: 451.1146\n",
      "Epoch 27/50\n",
      "5946/5946 [==============================] - 6s 1ms/sample - loss: 412.8566 - mse: 412.8041 - val_loss: 453.7953 - val_mse: 453.7426\n",
      "Epoch 28/50\n",
      "5946/5946 [==============================] - 7s 1ms/sample - loss: 412.6789 - mse: 412.6267 - val_loss: 449.9805 - val_mse: 449.9290\n",
      "Epoch 29/50\n",
      "5946/5946 [==============================] - 7s 1ms/sample - loss: 414.9105 - mse: 414.8604 - val_loss: 449.4137 - val_mse: 449.3642 - mse:\n",
      "Epoch 30/50\n",
      "5946/5946 [==============================] - 6s 1ms/sample - loss: 413.6479 - mse: 413.5984 - val_loss: 456.8860 - val_mse: 456.8369\n",
      "Epoch 31/50\n",
      "5946/5946 [==============================] - 6s 1ms/sample - loss: 412.4089 - mse: 412.3600 - val_loss: 454.2557 - val_mse: 454.2070\n",
      "Epoch 32/50\n",
      "5946/5946 [==============================] - 7s 1ms/sample - loss: 412.6488 - mse: 412.6002 - val_loss: 449.8218 - val_mse: 449.7733\n",
      "Epoch 33/50\n",
      "5946/5946 [==============================] - 6s 1ms/sample - loss: 412.9816 - mse: 412.9328 - val_loss: 449.9174 - val_mse: 449.8687\n",
      "Epoch 34/50\n",
      "5946/5946 [==============================] - 6s 1ms/sample - loss: 414.1936 - mse: 414.1455 - val_loss: 455.7787 - val_mse: 455.7309\n",
      "Epoch 35/50\n",
      "5946/5946 [==============================] - 6s 1ms/sample - loss: 414.4014 - mse: 414.3535 - val_loss: 452.3657 - val_mse: 452.3185\n",
      "Epoch 36/50\n",
      "5946/5946 [==============================] - 6s 1ms/sample - loss: 413.5834 - mse: 413.5371 - val_loss: 450.0640 - val_mse: 450.0179\n",
      "Epoch 37/50\n",
      "5946/5946 [==============================] - 6s 1ms/sample - loss: 413.7532 - mse: 413.7068 - val_loss: 464.4924 - val_mse: 464.4463\n",
      "Epoch 38/50\n",
      "5946/5946 [==============================] - 6s 1ms/sample - loss: 414.5047 - mse: 414.4585 - val_loss: 460.4451 - val_mse: 460.3988\n",
      "Epoch 39/50\n",
      "5946/5946 [==============================] - 6s 1ms/sample - loss: 412.2441 - mse: 412.1978 - val_loss: 450.9950 - val_mse: 450.9492\n",
      "Epoch 40/50\n",
      "5946/5946 [==============================] - 6s 1ms/sample - loss: 413.2652 - mse: 413.2194 - val_loss: 451.0486 - val_mse: 451.0030\n",
      "Epoch 41/50\n",
      "5946/5946 [==============================] - 6s 1ms/sample - loss: 412.8282 - mse: 412.7831 - val_loss: 454.6290 - val_mse: 454.5842\n",
      "Epoch 42/50\n",
      "5946/5946 [==============================] - 6s 1ms/sample - loss: 412.5161 - mse: 412.4714 - val_loss: 457.0392 - val_mse: 456.9947\n",
      "Epoch 43/50\n",
      "5946/5946 [==============================] - 6s 1ms/sample - loss: 411.2536 - mse: 411.2091 - val_loss: 450.9994 - val_mse: 450.9548\n",
      "Epoch 44/50\n",
      "5946/5946 [==============================] - 6s 1ms/sample - loss: 410.4980 - mse: 410.4537 - val_loss: 450.1548 - val_mse: 450.1113\n",
      "Epoch 45/50\n",
      "5946/5946 [==============================] - 6s 1ms/sample - loss: 410.0851 - mse: 410.0415 - val_loss: 450.2577 - val_mse: 450.2141\n",
      "Epoch 46/50\n",
      "5946/5946 [==============================] - 6s 1ms/sample - loss: 412.8220 - mse: 412.7781 - val_loss: 451.3697 - val_mse: 451.3263\n",
      "Epoch 47/50\n",
      "5946/5946 [==============================] - 6s 1ms/sample - loss: 411.1389 - mse: 411.0956 - val_loss: 454.4692 - val_mse: 454.4259\n",
      "Epoch 48/50\n",
      "5946/5946 [==============================] - 6s 1ms/sample - loss: 411.8592 - mse: 411.8160 - val_loss: 451.3783 - val_mse: 451.3349\n",
      "Epoch 49/50\n",
      "5946/5946 [==============================] - 6s 1ms/sample - loss: 410.3462 - mse: 410.3026 - val_loss: 451.0134 - val_mse: 450.9692\n",
      "Epoch 50/50\n",
      "5946/5946 [==============================] - 6s 1ms/sample - loss: 411.7220 - mse: 411.6783 - val_loss: 456.1686 - val_mse: 456.1249\n"
     ]
    }
   ],
   "source": [
    "tf.random.set_seed(42)\n",
    "\n",
    "input_image = tf.keras.Input((IMG_SIZE, IMG_SIZE, 3)) # Wejście na zdjęcia 128X128x3\n",
    "input_metadata = tf.keras.Input(X_train_metadata.shape[1]) # Wejście na metadane 13 kategorii\n",
    "\n",
    "image_conv2D_1 = tf.keras.layers.Conv2D(8, 3, activation='relu', padding='same')(input_image)\n",
    "image_conv2D_2 = tf.keras.layers.Conv2D(8, 3, activation='relu', padding='same')(image_conv2D_1)\n",
    "image_maxpool2D_1 = tf.keras.layers.MaxPooling2D(2)(image_conv2D_2)\n",
    "\n",
    "image_conv2D_3 = tf.keras.layers.Conv2D(16, 3, activation='relu', padding='same')(image_maxpool2D_1)\n",
    "image_conv2D_4 = tf.keras.layers.Conv2D(16, 3, activation='relu', padding='same')(image_conv2D_3)\n",
    "image_maxpool2D_2 = tf.keras.layers.MaxPooling2D(2)(image_conv2D_4)\n",
    "\n",
    "image_conv2D_5 = tf.keras.layers.Conv2D(32, 3, activation='relu', padding='same')(image_maxpool2D_2)\n",
    "image_conv2D_6 = tf.keras.layers.Conv2D(32, 3, activation='relu', padding='same')(image_conv2D_5)\n",
    "image_maxpool2D_3 = tf.keras.layers.MaxPooling2D(2)(image_conv2D_6)\n",
    "\n",
    "image_conv2D_7 = tf.keras.layers.Conv2D(64, 3, activation='relu', padding='same')(image_maxpool2D_3)\n",
    "image_conv2D_8 = tf.keras.layers.Conv2D(64, 3, activation='relu', padding='same')(image_conv2D_7)\n",
    "image_maxpool2D_4 = tf.keras.layers.MaxPooling2D(2)(image_conv2D_8)\n",
    "\n",
    "image_conv2D_9 = tf.keras.layers.Conv2D(128, 3, activation='relu', padding='same')(image_maxpool2D_4)\n",
    "image_conv2D_10 = tf.keras.layers.Conv2D(128, 3, activation='relu', padding='same')(image_conv2D_9)\n",
    "image_maxpool2D_5 = tf.keras.layers.MaxPooling2D(2)(image_conv2D_10) \n",
    "flatten = tf.keras.layers.GlobalAveragePooling2D()(image_maxpool2D_5) #Podobne działanie do Flatten\n",
    "\n",
    "metadata_dense_1 = tf.keras.layers.Dense(16)(input_metadata)\n",
    "metadata_dense_2 = tf.keras.layers.Dense(16)(metadata_dense_1)\n",
    "metadata_dense_3 = tf.keras.layers.Dense(16)(metadata_dense_2)\n",
    "metadata_dense_4 = tf.keras.layers.Dense(16, activation=\"relu\", kernel_regularizer=tf.keras.regularizers.l2())(metadata_dense_3)\n",
    "\n",
    "concat = tf.keras.layers.concatenate([flatten, metadata_dense_4])\n",
    "output = tf.keras.layers.Dense(1)(concat)\n",
    "model = tf.keras.Model(inputs=[input_image, input_metadata], outputs=[output])\n",
    "tf.keras.utils.plot_model(model, show_shapes=True)\n",
    "\n",
    "\n",
    "\n",
    "\n",
    "\n",
    "# model_2 = tf.keras.Sequential([\n",
    "#     tf.keras.layers.Conv2D(64, 7, activation='relu', padding='same', input_shape=[IMG_SIZE, IMG_SIZE, 3]),\n",
    "#     tf.keras.layers.MaxPooling2D(2),\n",
    "#     tf.keras.layers.Conv2D(128, 3, activation='relu', padding='same'),\n",
    "#     tf.keras.layers.Conv2D(128, 3, activation='relu', padding='same'),\n",
    "#     tf.keras.layers.MaxPooling2D(2),\n",
    "#     tf.keras.layers.Conv2D(256, 3, activation='relu', padding='same'),\n",
    "#     tf.keras.layers.Conv2D(256, 3, activation='relu', padding='same'),\n",
    "#     tf.keras.layers.MaxPooling2D(2),\n",
    "#     tf.keras.layers.Flatten(),\n",
    "#     tf.keras.layers.Dense(128, activation='relu'),\n",
    "#     tf.keras.layers.Dropout(0.5),\n",
    "#     tf.keras.layers.Dense(64, activation=\"relu\"),\n",
    "#     tf.keras.layers.Dropout(0.5),\n",
    "#     tf.keras.layers.Dense(1, activation='relu')\n",
    "# ])\n",
    "\n",
    "model.compile(loss=tf.keras.losses.MeanSquaredError(), optimizer=tf.keras.optimizers.Adam(1e-3), metrics=[\"mse\"])\n",
    "\n",
    "history_1 = model.fit((X_train_pictures,X_train_metadata), y_train, epochs=50, validation_data=((X_valid_pictures, X_valid_metadata), y_valid))"
   ]
  },
  {
   "cell_type": "code",
   "execution_count": 10,
   "id": "f40566df-bacc-4356-9944-7c40fd6c7da3",
   "metadata": {},
   "outputs": [
    {
     "data": {
      "text/plain": [
       "450.6174485709307"
      ]
     },
     "execution_count": 10,
     "metadata": {},
     "output_type": "execute_result"
    }
   ],
   "source": [
    "mean_squared_error(y_test, model.predict((X_test_pictures, X_test_metadata)))"
   ]
  },
  {
   "cell_type": "code",
   "execution_count": 11,
   "id": "5f0ae806-a75b-4b03-8259-2a724e7204e2",
   "metadata": {},
   "outputs": [
    {
     "data": {
      "image/png": "[encoded data removed]",
      "text/plain": [
       "<Figure size 576x360 with 1 Axes>"
      ]
     },
     "metadata": {
      "needs_background": "light"
     },
     "output_type": "display_data"
    }
   ],
   "source": [
    "pd.DataFrame(history_1.history).plot(figsize=(8,5))\n",
    "plt.grid(True)\n",
    "plt.show()"
   ]
  },
  {
   "cell_type": "code",
   "execution_count": null,
   "id": "c2fe4274-465b-4925-9cd8-2b4d113a2af0",
   "metadata": {},
   "outputs": [],
   "source": []
  }
 ],
 "metadata": {
  "kernelspec": {
   "display_name": "Python 3 (ipykernel)",
   "language": "python",
   "name": "python3"
  },
  "language_info": {
   "codemirror_mode": {
    "name": "ipython",
    "version": 3
   },
   "file_extension": ".py",
   "mimetype": "text/x-python",
   "name": "python",
   "nbconvert_exporter": "python",
   "pygments_lexer": "ipython3",
   "version": "3.7.11"
  }
 },
 "nbformat": 4,
 "nbformat_minor": 5
}
