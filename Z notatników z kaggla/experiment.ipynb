{
 "cells": [
  {
   "cell_type": "code",
   "execution_count": 1,
   "metadata": {
    "_cell_guid": "b1076dfc-b9ad-4769-8c92-a6c4dae69d19",
    "_uuid": "8f2839f25d086af736a60e9eeb907d3b93b6e0e5"
   },
   "outputs": [],
   "source": [
    "import tensorflow as tf\n",
    "import pandas as pd\n",
    "import tqdm\n",
    "import numpy as np\n",
    "import cv2\n",
    "from sklearn.model_selection import train_test_split\n",
    "from sklearn.metrics import mean_squared_error\n",
    "import matplotlib.pyplot as plt\n",
    "from sklearn.model_selection import KFold\n",
    "import math"
   ]
  },
  {
   "cell_type": "code",
   "execution_count": 2,
   "metadata": {},
   "outputs": [],
   "source": [
    "df= pd.read_csv(\"../Data/train.csv\")\n",
    "all_id = np.array(df['Id'])\n",
    "y= np.array(df['Pawpularity'])\n"
   ]
  },
  {
   "cell_type": "code",
   "execution_count": 3,
   "metadata": {},
   "outputs": [
    {
     "name": "stderr",
     "output_type": "stream",
     "text": [
      "9912it [01:22, 119.99it/s]\n"
     ]
    }
   ],
   "source": [
    "dict_images = {}\n",
    "img_size=128\n",
    "for i, single_id in tqdm.tqdm(enumerate(all_id)):\n",
    "    img = cv2.cvtColor(cv2.imread(f\"../Data/train/{single_id}.jpg\"), cv2.COLOR_BGR2RGB)\n",
    "\n",
    "    if img.shape[0] > img.shape[1]:\n",
    "        bigger = 0\n",
    "        smaller = 1\n",
    "    else:\n",
    "        bigger = 1\n",
    "        smaller =0\n",
    "    new_size = img.shape[smaller]\n",
    "    to_cut_out = img.shape[bigger] - new_size\n",
    "    if img.shape[0] > img.shape[1]:\n",
    "        new_img = img[int(to_cut_out/2):new_size+int(to_cut_out/2)]\n",
    "    else:\n",
    "        new_img = img[:,int(to_cut_out/2):new_size+int(to_cut_out/2)]\n",
    "    new_img = cv2.resize(new_img, (img_size, img_size))\n",
    "    dict_images[single_id] = new_img/255\n"
   ]
  },
  {
   "cell_type": "code",
   "execution_count": 4,
   "metadata": {},
   "outputs": [],
   "source": [
    "def get_images_from_id(data_id, img_size=128, colours=3):\n",
    "    pictures = np.zeros((len(data_id), img_size, img_size, colours))\n",
    "    for i, single_id in enumerate(data_id):\n",
    "        pictures[i] = dict_images[single_id]\n",
    "    return pictures"
   ]
  },
  {
   "cell_type": "code",
   "execution_count": 5,
   "metadata": {},
   "outputs": [],
   "source": [
    "def get_model():\n",
    "    tf.random.set_seed(1234)\n",
    "    IMG_SIZE = 128\n",
    "    METADATA_SHAPE = 12\n",
    "    input_image = tf.keras.Input((IMG_SIZE, IMG_SIZE, 3)) # Wejście na zdjęcia 128X128x3\n",
    "    input_metadata = tf.keras.Input(METADATA_SHAPE) # Wejście na metadane 12 kategorii\n",
    "\n",
    "    image_conv2D_1 = tf.keras.layers.Conv2D(8, 3, activation='relu', padding='same')(input_image)\n",
    "    image_conv2D_2 = tf.keras.layers.Conv2D(8, 3, activation='relu', padding='same')(image_conv2D_1)\n",
    "    image_maxpool2D_1 = tf.keras.layers.MaxPooling2D(2)(image_conv2D_2)\n",
    "\n",
    "    image_conv2D_3 = tf.keras.layers.Conv2D(16, 3, activation='relu', padding='same')(image_maxpool2D_1)\n",
    "    image_conv2D_4 = tf.keras.layers.Conv2D(16, 3, activation='relu', padding='same')(image_conv2D_3)\n",
    "    image_maxpool2D_2 = tf.keras.layers.MaxPooling2D(2)(image_conv2D_4)\n",
    "\n",
    "    image_conv2D_5 = tf.keras.layers.Conv2D(32, 3, activation='relu', padding='same')(image_maxpool2D_2)\n",
    "    image_conv2D_6 = tf.keras.layers.Conv2D(32, 3, activation='relu', padding='same')(image_conv2D_5)\n",
    "    image_maxpool2D_3 = tf.keras.layers.MaxPooling2D(2)(image_conv2D_6)\n",
    "\n",
    "    image_conv2D_7 = tf.keras.layers.Conv2D(64, 3, activation='relu', padding='same')(image_maxpool2D_3)\n",
    "    image_conv2D_8 = tf.keras.layers.Conv2D(64, 3, activation='relu', padding='same')(image_conv2D_7)\n",
    "    image_maxpool2D_4 = tf.keras.layers.MaxPooling2D(2)(image_conv2D_8)\n",
    "\n",
    "    image_conv2D_9 = tf.keras.layers.Conv2D(128, 3, activation='relu', padding='same')(image_maxpool2D_4)\n",
    "    image_conv2D_10 = tf.keras.layers.Conv2D(128, 3, activation='relu', padding='same')(image_conv2D_9)\n",
    "    image_maxpool2D_5 = tf.keras.layers.MaxPooling2D(2)(image_conv2D_10) \n",
    "    flatten = tf.keras.layers.GlobalAveragePooling2D()(image_maxpool2D_5) #Podobne działanie do Flatten\n",
    "\n",
    "    metadata_dense_1 = tf.keras.layers.Dense(16, activation=\"relu\", kernel_regularizer=tf.keras.regularizers.l2())(input_metadata)\n",
    "\n",
    "    concat = tf.keras.layers.concatenate([flatten, metadata_dense_1])\n",
    "    output = tf.keras.layers.Dense(1)(concat)\n",
    "    model = tf.keras.Model(inputs=[input_image, input_metadata], outputs=[output])\n",
    "\n",
    "    model.compile(loss=tf.keras.losses.MeanSquaredError(), optimizer=tf.keras.optimizers.Adam(1e-3), metrics=[\"mse\"])\n",
    "    return model"
   ]
  },
  {
   "cell_type": "code",
   "execution_count": 6,
   "metadata": {},
   "outputs": [],
   "source": [
    "times_cross_validation = 5\n",
    "kf = KFold(n_splits=times_cross_validation, shuffle=True, random_state=1234)\n",
    "results = np.zeros(5)"
   ]
  },
  {
   "cell_type": "code",
   "execution_count": 7,
   "metadata": {},
   "outputs": [],
   "source": [
    "def get_metadata_and_photos(selected_id):\n",
    "    X_metadata = df[df['Id'].isin(selected_id)]\n",
    "    X_pictures = get_images_from_id(X_metadata['Id'])\n",
    "    X_metadata = X_metadata.drop(columns=['Id', 'Pawpularity'])\n",
    "    return X_metadata, X_pictures"
   ]
  },
  {
   "cell_type": "code",
   "execution_count": 8,
   "metadata": {},
   "outputs": [
    {
     "name": "stderr",
     "output_type": "stream",
     "text": [
      "0it [00:00, ?it/s]"
     ]
    },
    {
     "name": "stdout",
     "output_type": "stream",
     "text": [
      "Train on 6343 samples, validate on 1586 samples\n",
      "Epoch 1/300\n",
      "6343/6343 [==============================] - 11s 2ms/sample - loss: 525.5029 - mse: 525.3713 - val_loss: 444.2533 - val_mse: 444.1286\n",
      "Epoch 2/300\n",
      "6343/6343 [==============================] - 6s 1ms/sample - loss: 450.4497 - mse: 450.3291 - val_loss: 453.0493 - val_mse: 452.9325\n",
      "Epoch 3/300\n",
      "6343/6343 [==============================] - 7s 1ms/sample - loss: 437.4287 - mse: 437.3144 - val_loss: 428.3789 - val_mse: 428.2669\n",
      "Epoch 4/300\n",
      "6343/6343 [==============================] - 7s 1ms/sample - loss: 442.7796 - mse: 442.6691 - val_loss: 429.1303 - val_mse: 429.0210\n",
      "Epoch 5/300\n",
      "6343/6343 [==============================] - 7s 1ms/sample - loss: 434.1909 - mse: 434.0822 - val_loss: 431.6035 - val_mse: 431.4962\n",
      "Epoch 6/300\n",
      "6343/6343 [==============================] - 6s 1ms/sample - loss: 436.3250 - mse: 436.2178 - val_loss: 441.4839 - val_mse: 441.3773\n",
      "Epoch 7/300\n",
      "6343/6343 [==============================] - 7s 1ms/sample - loss: 432.8611 - mse: 432.7546 - val_loss: 448.6183 - val_mse: 448.5121\n",
      "Epoch 8/300\n",
      "6343/6343 [==============================] - 7s 1ms/sample - loss: 429.5879 - mse: 429.4813 - val_loss: 433.7158 - val_mse: 433.6095\n",
      "Epoch 9/300\n",
      "6343/6343 [==============================] - 7s 1ms/sample - loss: 430.4488 - mse: 430.3427 - val_loss: 428.2305 - val_mse: 428.1240\n",
      "Epoch 10/300\n",
      "6343/6343 [==============================] - 7s 1ms/sample - loss: 429.8880 - mse: 429.7812 - val_loss: 462.7960 - val_mse: 462.6893\n",
      "Epoch 11/300\n",
      "6343/6343 [==============================] - 7s 1ms/sample - loss: 430.7088 - mse: 430.6014 - val_loss: 430.8568 - val_mse: 430.7490\n",
      "Epoch 12/300\n",
      "6343/6343 [==============================] - 7s 1ms/sample - loss: 430.9595 - mse: 430.8514 - val_loss: 429.7800 - val_mse: 429.6711\n",
      "Epoch 13/300\n",
      "6343/6343 [==============================] - 7s 1ms/sample - loss: 430.3666 - mse: 430.2571 - val_loss: 466.6634 - val_mse: 466.5525\n",
      "Epoch 14/300\n",
      "6343/6343 [==============================] - 7s 1ms/sample - loss: 430.8479 - mse: 430.7369 - val_loss: 428.1976 - val_mse: 428.0852\n",
      "Epoch 15/300\n",
      "6343/6343 [==============================] - 7s 1ms/sample - loss: 432.9748 - mse: 432.8610 - val_loss: 428.5817 - val_mse: 428.4675\n",
      "Epoch 16/300\n",
      "6343/6343 [==============================] - 7s 1ms/sample - loss: 428.4223 - mse: 428.3069 - val_loss: 432.1653 - val_mse: 432.0496\n",
      "Epoch 17/300\n",
      "6343/6343 [==============================] - 7s 1ms/sample - loss: 427.7868 - mse: 427.6698 - val_loss: 429.9081 - val_mse: 429.7905\n",
      "Epoch 18/300\n",
      "6343/6343 [==============================] - 7s 1ms/sample - loss: 429.0399 - mse: 428.9213 - val_loss: 428.9036 - val_mse: 428.7838\n",
      "Epoch 19/300\n",
      "6343/6343 [==============================] - 7s 1ms/sample - loss: 428.6382 - mse: 428.5177 - val_loss: 435.9920 - val_mse: 435.8709\n",
      "Epoch 20/300\n",
      "6343/6343 [==============================] - 7s 1ms/sample - loss: 428.0922 - mse: 427.9695 - val_loss: 429.2449 - val_mse: 429.1216\n",
      "Epoch 21/300\n",
      "6343/6343 [==============================] - 7s 1ms/sample - loss: 426.8651 - mse: 426.7419 - val_loss: 428.2583 - val_mse: 428.1338\n",
      "Epoch 22/300\n",
      "6343/6343 [==============================] - 7s 1ms/sample - loss: 428.8136 - mse: 428.6880 - val_loss: 428.7208 - val_mse: 428.5938\n",
      "Epoch 23/300\n",
      "6343/6343 [==============================] - 7s 1ms/sample - loss: 427.8338 - mse: 427.7053 - val_loss: 428.2560 - val_mse: 428.1260\n",
      "Epoch 24/300\n",
      "6343/6343 [==============================] - 7s 1ms/sample - loss: 428.6926 - mse: 428.5626 - val_loss: 430.3530 - val_mse: 430.2209\n"
     ]
    },
    {
     "name": "stderr",
     "output_type": "stream",
     "text": [
      "1it [02:45, 165.32s/it]"
     ]
    },
    {
     "name": "stdout",
     "output_type": "stream",
     "text": [
      "Train on 6343 samples, validate on 1586 samples\n",
      "Epoch 1/300\n",
      "6343/6343 [==============================] - 8s 1ms/sample - loss: 517.6422 - mse: 517.5107 - val_loss: 441.3251 - val_mse: 441.2007: 5\n",
      "Epoch 2/300\n",
      "6343/6343 [==============================] - 7s 1ms/sample - loss: 452.7247 - mse: 452.6049 - val_loss: 427.9016 - val_mse: 427.7858\n",
      "Epoch 3/300\n",
      "6343/6343 [==============================] - 6s 1ms/sample - loss: 452.7639 - mse: 452.6506 - val_loss: 438.7140 - val_mse: 438.6030\n",
      "Epoch 4/300\n",
      "6343/6343 [==============================] - 6s 1ms/sample - loss: 439.6435 - mse: 439.5346 - val_loss: 429.2347 - val_mse: 429.1277\n",
      "Epoch 5/300\n",
      "6343/6343 [==============================] - 7s 1ms/sample - loss: 434.2542 - mse: 434.1494 - val_loss: 426.6633 - val_mse: 426.5600\n",
      "Epoch 6/300\n",
      "6343/6343 [==============================] - 6s 1ms/sample - loss: 433.9302 - mse: 433.8278 - val_loss: 428.8991 - val_mse: 428.7982\n",
      "Epoch 7/300\n",
      "6343/6343 [==============================] - 6s 1ms/sample - loss: 439.8949 - mse: 439.7945 - val_loss: 433.7451 - val_mse: 433.6450\n",
      "Epoch 8/300\n",
      "6343/6343 [==============================] - 6s 1ms/sample - loss: 437.4228 - mse: 437.3230 - val_loss: 434.6145 - val_mse: 434.5151\n",
      "Epoch 9/300\n",
      "6343/6343 [==============================] - 6s 996us/sample - loss: 434.2433 - mse: 434.1435 - val_loss: 427.5188 - val_mse: 427.4199\n",
      "Epoch 10/300\n",
      "6343/6343 [==============================] - 6s 1ms/sample - loss: 433.6297 - mse: 433.5310 - val_loss: 427.7300 - val_mse: 427.6315\n",
      "Epoch 11/300\n",
      "6343/6343 [==============================] - 6s 1ms/sample - loss: 438.8542 - mse: 438.7549 - val_loss: 427.0560 - val_mse: 426.9562\n",
      "Epoch 12/300\n",
      "6343/6343 [==============================] - 6s 999us/sample - loss: 434.6609 - mse: 434.5605 - val_loss: 429.0281 - val_mse: 428.9268\n",
      "Epoch 13/300\n",
      "6343/6343 [==============================] - 6s 1ms/sample - loss: 432.1220 - mse: 432.0205 - val_loss: 429.4606 - val_mse: 429.3586\n",
      "Epoch 14/300\n",
      "6343/6343 [==============================] - 6s 1ms/sample - loss: 435.1661 - mse: 435.0642 - val_loss: 432.4368 - val_mse: 432.3339\n",
      "Epoch 15/300\n",
      "6343/6343 [==============================] - 6s 1ms/sample - loss: 433.5396 - mse: 433.4351 - val_loss: 436.5657 - val_mse: 436.4604\n"
     ]
    },
    {
     "name": "stderr",
     "output_type": "stream",
     "text": [
      "2it [04:41, 136.51s/it]"
     ]
    },
    {
     "name": "stdout",
     "output_type": "stream",
     "text": [
      "Train on 6344 samples, validate on 1586 samples\n",
      "Epoch 1/300\n",
      "6344/6344 [==============================] - 9s 1ms/sample - loss: 517.3197 - mse: 517.1897 - val_loss: 474.2317 - val_mse: 474.1092\n",
      "Epoch 2/300\n",
      "6344/6344 [==============================] - 7s 1ms/sample - loss: 448.5507 - mse: 448.4323 - val_loss: 425.1153 - val_mse: 425.0008\n",
      "Epoch 3/300\n",
      "6344/6344 [==============================] - 6s 1ms/sample - loss: 442.5975 - mse: 442.4854 - val_loss: 432.3783 - val_mse: 432.2686441.3261 - mse: 441.\n",
      "Epoch 4/300\n",
      "6344/6344 [==============================] - 6s 1ms/sample - loss: 433.5546 - mse: 433.4465 - val_loss: 426.1390 - val_mse: 426.0326\n",
      "Epoch 5/300\n",
      "6344/6344 [==============================] - 7s 1ms/sample - loss: 430.6647 - mse: 430.5594 - val_loss: 424.5339 - val_mse: 424.4299\n",
      "Epoch 6/300\n",
      "6344/6344 [==============================] - 7s 1ms/sample - loss: 441.4033 - mse: 441.2998 - val_loss: 450.1203 - val_mse: 450.0177 - loss: 441.4646 - mse: 44\n",
      "Epoch 7/300\n",
      "6344/6344 [==============================] - 6s 1ms/sample - loss: 428.6364 - mse: 428.5348 - val_loss: 425.5755 - val_mse: 425.4744\n",
      "Epoch 8/300\n",
      "6344/6344 [==============================] - 7s 1ms/sample - loss: 429.3079 - mse: 429.2075 - val_loss: 426.6489 - val_mse: 426.5489\n",
      "Epoch 9/300\n",
      "6344/6344 [==============================] - 6s 1ms/sample - loss: 427.6865 - mse: 427.5866 - val_loss: 425.0185 - val_mse: 424.9190\n",
      "Epoch 10/300\n",
      "6344/6344 [==============================] - 6s 1ms/sample - loss: 433.1997 - mse: 433.1007 - val_loss: 426.1171 - val_mse: 426.0173- loss: 433.7342 - mse: 4\n",
      "Epoch 11/300\n",
      "6344/6344 [==============================] - 6s 1ms/sample - loss: 433.1827 - mse: 433.0825 - val_loss: 425.2056 - val_mse: 425.1052\n",
      "Epoch 12/300\n",
      "6344/6344 [==============================] - 6s 1ms/sample - loss: 433.0939 - mse: 432.9928 - val_loss: 428.0464 - val_mse: 427.9447loss: 435.7463 - mse: 435.6\n",
      "Epoch 13/300\n",
      "6344/6344 [==============================] - 6s 1ms/sample - loss: 429.0249 - mse: 428.9229 - val_loss: 427.3120 - val_mse: 427.2093\n",
      "Epoch 14/300\n",
      "6344/6344 [==============================] - 7s 1ms/sample - loss: 430.9754 - mse: 430.8718 - val_loss: 428.3245 - val_mse: 428.2204TA: 1s\n",
      "Epoch 15/300\n",
      "6344/6344 [==============================] - 7s 1ms/sample - loss: 430.6478 - mse: 430.5430 - val_loss: 436.3587 - val_mse: 436.2532\n"
     ]
    },
    {
     "name": "stderr",
     "output_type": "stream",
     "text": [
      "3it [06:25, 121.51s/it]"
     ]
    },
    {
     "name": "stdout",
     "output_type": "stream",
     "text": [
      "Train on 6344 samples, validate on 1586 samples\n",
      "Epoch 1/300\n",
      "6344/6344 [==============================] - 8s 1ms/sample - loss: 517.7599 - mse: 517.6296 - val_loss: 427.4068 - val_mse: 427.2831\n",
      "Epoch 2/300\n",
      "6344/6344 [==============================] - 6s 1ms/sample - loss: 446.7891 - mse: 446.6695 - val_loss: 415.9252 - val_mse: 415.8089\n",
      "Epoch 3/300\n",
      "6344/6344 [==============================] - 6s 1ms/sample - loss: 437.2683 - mse: 437.1542 - val_loss: 418.7643 - val_mse: 418.6533\n",
      "Epoch 4/300\n",
      "6344/6344 [==============================] - 7s 1ms/sample - loss: 431.3867 - mse: 431.2777 - val_loss: 415.4002 - val_mse: 415.2932\n",
      "Epoch 5/300\n",
      "6344/6344 [==============================] - 6s 1ms/sample - loss: 435.6006 - mse: 435.4946 - val_loss: 416.3752 - val_mse: 416.2708\n",
      "Epoch 6/300\n",
      "6344/6344 [==============================] - 6s 1ms/sample - loss: 434.3161 - mse: 434.2129 - val_loss: 416.4997 - val_mse: 416.3981\n",
      "Epoch 7/300\n",
      "6344/6344 [==============================] - 7s 1ms/sample - loss: 435.6035 - mse: 435.5028 - val_loss: 414.2426 - val_mse: 414.1420\n",
      "Epoch 8/300\n",
      "6344/6344 [==============================] - 6s 1ms/sample - loss: 426.2097 - mse: 426.1102 - val_loss: 426.0670 - val_mse: 425.9678\n",
      "Epoch 9/300\n",
      "6344/6344 [==============================] - 6s 1ms/sample - loss: 428.8986 - mse: 428.8006 - val_loss: 414.2534 - val_mse: 414.1553\n",
      "Epoch 10/300\n",
      "6344/6344 [==============================] - 7s 1ms/sample - loss: 430.1695 - mse: 430.0718 - val_loss: 413.8228 - val_mse: 413.7249\n",
      "Epoch 11/300\n",
      "6344/6344 [==============================] - 6s 1ms/sample - loss: 429.7195 - mse: 429.6213 - val_loss: 419.3658 - val_mse: 419.2679\n",
      "Epoch 12/300\n",
      "6344/6344 [==============================] - 7s 1ms/sample - loss: 424.9336 - mse: 424.8366 - val_loss: 413.6567 - val_mse: 413.5593\n",
      "Epoch 13/300\n",
      "6344/6344 [==============================] - 6s 1ms/sample - loss: 427.1953 - mse: 427.0977 - val_loss: 423.8497 - val_mse: 423.7520\n",
      "Epoch 14/300\n",
      "6344/6344 [==============================] - 6s 1ms/sample - loss: 429.1592 - mse: 429.0614 - val_loss: 416.3905 - val_mse: 416.2922\n",
      "Epoch 15/300\n",
      "6344/6344 [==============================] - 6s 1ms/sample - loss: 427.7030 - mse: 427.6044 - val_loss: 416.5665 - val_mse: 416.4673\n",
      "Epoch 16/300\n",
      "6344/6344 [==============================] - 6s 1ms/sample - loss: 428.8957 - mse: 428.7963 - val_loss: 414.9951 - val_mse: 414.8951\n",
      "Epoch 17/300\n",
      "6344/6344 [==============================] - 6s 1ms/sample - loss: 427.8157 - mse: 427.7161 - val_loss: 426.3198 - val_mse: 426.2195\n",
      "Epoch 18/300\n",
      "6344/6344 [==============================] - 6s 1ms/sample - loss: 427.8667 - mse: 427.7659 - val_loss: 414.0984 - val_mse: 413.9975\n",
      "Epoch 19/300\n",
      "6344/6344 [==============================] - 6s 1ms/sample - loss: 426.5093 - mse: 426.4081 - val_loss: 417.4787 - val_mse: 417.3774\n",
      "Epoch 20/300\n",
      "6344/6344 [==============================] - 6s 1ms/sample - loss: 426.2086 - mse: 426.1071 - val_loss: 414.2224 - val_mse: 414.1208\n",
      "Epoch 21/300\n",
      "6344/6344 [==============================] - 6s 1ms/sample - loss: 426.1818 - mse: 426.0795 - val_loss: 415.0256 - val_mse: 414.9229\n",
      "Epoch 22/300\n",
      "6344/6344 [==============================] - 6s 1ms/sample - loss: 426.4606 - mse: 426.3580 - val_loss: 428.7470 - val_mse: 428.6439\n"
     ]
    },
    {
     "name": "stderr",
     "output_type": "stream",
     "text": [
      "4it [08:50, 131.02s/it]"
     ]
    },
    {
     "name": "stdout",
     "output_type": "stream",
     "text": [
      "Train on 6344 samples, validate on 1586 samples\n",
      "Epoch 1/300\n",
      "6344/6344 [==============================] - 8s 1ms/sample - loss: 510.1665 - mse: 510.0350 - val_loss: 441.7712 - val_mse: 441.6458\n",
      "Epoch 2/300\n",
      "6344/6344 [==============================] - 7s 1ms/sample - loss: 440.4667 - mse: 440.3451 - val_loss: 435.5436 - val_mse: 435.4250\n",
      "Epoch 3/300\n",
      "6344/6344 [==============================] - 6s 1ms/sample - loss: 430.7577 - mse: 430.6415 - val_loss: 467.9852 - val_mse: 467.8706\n",
      "Epoch 4/300\n",
      "6344/6344 [==============================] - 6s 1ms/sample - loss: 424.7568 - mse: 424.6434 - val_loss: 479.8296 - val_mse: 479.7179\n",
      "Epoch 5/300\n",
      "6344/6344 [==============================] - 7s 1ms/sample - loss: 422.8632 - mse: 422.7529 - val_loss: 437.6054 - val_mse: 437.4962\n",
      "Epoch 6/300\n",
      "6344/6344 [==============================] - 7s 1ms/sample - loss: 424.1797 - mse: 424.0716 - val_loss: 435.2100 - val_mse: 435.1026\n",
      "Epoch 7/300\n",
      "6344/6344 [==============================] - 6s 1ms/sample - loss: 424.4979 - mse: 424.3907 - val_loss: 441.8465 - val_mse: 441.7397\n",
      "Epoch 8/300\n",
      "6344/6344 [==============================] - 7s 1ms/sample - loss: 421.4741 - mse: 421.3677 - val_loss: 434.9126 - val_mse: 434.8065\n",
      "Epoch 9/300\n",
      "6344/6344 [==============================] - 7s 1ms/sample - loss: 421.5998 - mse: 421.4946 - val_loss: 441.0219 - val_mse: 440.9159\n",
      "Epoch 10/300\n",
      "6344/6344 [==============================] - 6s 1ms/sample - loss: 420.5958 - mse: 420.4894 - val_loss: 435.7563 - val_mse: 435.6494\n",
      "Epoch 11/300\n",
      "6344/6344 [==============================] - 7s 1ms/sample - loss: 423.0555 - mse: 422.9482 - val_loss: 439.4978 - val_mse: 439.3904\n",
      "Epoch 12/300\n",
      "6344/6344 [==============================] - 6s 1ms/sample - loss: 421.4575 - mse: 421.3501 - val_loss: 436.3047 - val_mse: 436.1964: 3s - loss: 409.\n",
      "Epoch 13/300\n",
      "6344/6344 [==============================] - 7s 1ms/sample - loss: 421.2988 - mse: 421.1897 - val_loss: 472.5881 - val_mse: 472.4775\n",
      "Epoch 14/300\n",
      "6344/6344 [==============================] - 7s 1ms/sample - loss: 421.5025 - mse: 421.3908 - val_loss: 439.5885 - val_mse: 439.4759421.0817 - mse: 420.\n",
      "Epoch 15/300\n",
      "6344/6344 [==============================] - 6s 1ms/sample - loss: 419.2128 - mse: 419.0993 - val_loss: 452.5523 - val_mse: 452.4381\n",
      "Epoch 16/300\n",
      "6344/6344 [==============================] - 7s 1ms/sample - loss: 423.3079 - mse: 423.1925 - val_loss: 450.4766 - val_mse: 450.3611ss: 413.6267 - ms\n",
      "Epoch 17/300\n",
      "6344/6344 [==============================] - 6s 1ms/sample - loss: 423.2282 - mse: 423.1118 - val_loss: 442.2446 - val_mse: 442.1266\n",
      "Epoch 18/300\n",
      "6344/6344 [==============================] - 6s 1ms/sample - loss: 419.9567 - mse: 419.8387 - val_loss: 436.3060 - val_mse: 436.1860\n"
     ]
    },
    {
     "name": "stderr",
     "output_type": "stream",
     "text": [
      "5it [10:52, 130.41s/it]\n"
     ]
    }
   ],
   "source": [
    "np.random.seed(1410)\n",
    "tf.random.set_seed(1234)\n",
    "for i, (train_index, test_index) in tqdm.tqdm(enumerate(kf.split(all_id))):\n",
    "    X_train_full_id = all_id[train_index]\n",
    "    X_test_id = all_id[test_index]\n",
    "    y_train_full = y[train_index]\n",
    "    y_test = y[test_index]\n",
    "    \n",
    "    X_train_id, X_valid_id, y_train, y_valid = train_test_split(X_train_full_id, y_train_full, test_size=0.2, random_state=42)\n",
    "    \n",
    "    X_train_metadata, X_train_pictures = get_metadata_and_photos(X_train_id)\n",
    "    X_valid_metadata, X_valid_pictures = get_metadata_and_photos(X_valid_id)\n",
    "    X_test_metadata, X_test_pictures = get_metadata_and_photos(X_test_id)\n",
    "    \n",
    "    model = get_model()\n",
    "    \n",
    "    checkpoint_cb = tf.keras.callbacks.ModelCheckpoint('best_model.h5', save_best_only=True)\n",
    "    early_stopping_cb = tf.keras.callbacks.EarlyStopping(patience=10, restore_best_weights=True)\n",
    "    model.fit((X_train_pictures, X_train_metadata), y_train, epochs=300, validation_data=((X_valid_pictures, X_valid_metadata), y_valid), callbacks=[checkpoint_cb, early_stopping_cb])\n",
    "    model = tf.keras.models.load_model('best_model.h5')\n",
    "    y_pred = model.predict((X_test_pictures, X_test_metadata))\n",
    "    results[i] = math.sqrt(mean_squared_error(y_test, y_pred))"
   ]
  },
  {
   "cell_type": "code",
   "execution_count": 9,
   "metadata": {},
   "outputs": [
    {
     "data": {
      "text/plain": [
       "array([20.43285492, 20.17415393, 20.50678873, 20.90181036, 20.95847568])"
      ]
     },
     "execution_count": 9,
     "metadata": {},
     "output_type": "execute_result"
    }
   ],
   "source": [
    "results"
   ]
  },
  {
   "cell_type": "code",
   "execution_count": 10,
   "metadata": {},
   "outputs": [
    {
     "data": {
      "text/plain": [
       "20.594816722559273"
      ]
     },
     "execution_count": 10,
     "metadata": {},
     "output_type": "execute_result"
    }
   ],
   "source": [
    "results.mean()"
   ]
  },
  {
   "cell_type": "code",
   "execution_count": null,
   "metadata": {},
   "outputs": [],
   "source": []
  }
 ],
 "metadata": {
  "kernelspec": {
   "display_name": "Python 3 (ipykernel)",
   "language": "python",
   "name": "python3"
  },
  "language_info": {
   "codemirror_mode": {
    "name": "ipython",
    "version": 3
   },
   "file_extension": ".py",
   "mimetype": "text/x-python",
   "name": "python",
   "nbconvert_exporter": "python",
   "pygments_lexer": "ipython3",
   "version": "3.7.11"
  }
 },
 "nbformat": 4,
 "nbformat_minor": 4
}
