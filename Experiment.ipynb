{
 "cells": [
  {
   "cell_type": "code",
   "execution_count": 1,
   "id": "68776c3c-8b46-412d-8b89-38c49639aeb6",
   "metadata": {},
   "outputs": [],
   "source": [
    "import tensorflow as tf\n",
    "import pandas as pd\n",
    "from PIL import Image\n",
    "import numpy as np\n",
    "import matplotlib.pyplot as plt\n",
    "import tqdm\n",
    "import os\n",
    "import cv2\n",
    "from sklearn.model_selection import train_test_split\n",
    "from sklearn.metrics import mean_squared_error"
   ]
  },
  {
   "cell_type": "code",
   "execution_count": 2,
   "id": "cb8c3381-98f5-4a5a-8676-6bd968e7a710",
   "metadata": {},
   "outputs": [
    {
     "data": {
      "text/plain": [
       "[PhysicalDevice(name='/physical_device:GPU:0', device_type='GPU')]"
      ]
     },
     "execution_count": 2,
     "metadata": {},
     "output_type": "execute_result"
    }
   ],
   "source": [
    "tf.config.experimental.list_physical_devices('GPU')"
   ]
  },
  {
   "cell_type": "code",
   "execution_count": 9,
   "id": "980e89db-8d59-4b2d-a208-a7088e2ad855",
   "metadata": {},
   "outputs": [
    {
     "name": "stdout",
     "output_type": "stream",
     "text": [
      "1 Physical GPUs, 1 Logical GPUs\n"
     ]
    }
   ],
   "source": [
    "gpus = tf.config.experimental.list_physical_devices('GPU')\n",
    "if gpus:\n",
    "    try:\n",
    "        # Currently, memory growth needs to be the same across GPUs\n",
    "        for gpu in gpus:\n",
    "            tf.config.experimental.set_memory_growth(gpu, True)\n",
    "            logical_gpus = tf.config.experimental.list_logical_devices('GPU')\n",
    "            print(len(gpus), 'Physical GPUs,', len(logical_gpus), 'Logical GPUs')\n",
    "    except RuntimeError as e:\n",
    "    # Memory growth must be set before GPUs have been initialized\n",
    "        print(e)\n"
   ]
  },
  {
   "cell_type": "code",
   "execution_count": 10,
   "id": "03cfea3b-a575-4102-9286-360ce2bd3c84",
   "metadata": {},
   "outputs": [
    {
     "data": {
      "text/plain": [
       "100"
      ]
     },
     "execution_count": 10,
     "metadata": {},
     "output_type": "execute_result"
    }
   ],
   "source": [
    "df= pd.read_csv('Data/train.csv')\n",
    "df = df[:100]\n",
    "all_id = np.array(df['Id'])\n",
    "len(all_id)"
   ]
  },
  {
   "cell_type": "code",
   "execution_count": 11,
   "id": "e12e9da1-cf97-49b8-bbcc-ba21c4a43a26",
   "metadata": {},
   "outputs": [],
   "source": [
    "IMG_SIZE = 128\n",
    "colours = 3\n"
   ]
  },
  {
   "cell_type": "code",
   "execution_count": 12,
   "id": "ae7d222a-933f-46fa-aa0b-258cdafa7d8d",
   "metadata": {},
   "outputs": [],
   "source": [
    "def get_images_from_id(data_id, img_size=128, colours=3):\n",
    "    pictures = np.zeros((len(data_id), IMG_SIZE, IMG_SIZE, colours))\n",
    "    for i, single_id in tqdm.tqdm(enumerate(data_id)):\n",
    "        img = cv2.cvtColor(cv2.imread(f\"Data/train/{single_id}.jpg\"), cv2.COLOR_BGR2RGB)\n",
    "        new_img = cv2.resize(img, (IMG_SIZE, IMG_SIZE))\n",
    "        pictures[i] = new_img/255\n",
    "    return pictures\n",
    "#     plt.imshow(pictures[i])\n",
    "#     plt.savefig(f'picture{i}.png')"
   ]
  },
  {
   "cell_type": "code",
   "execution_count": 13,
   "id": "bd54f2ea-d4dd-4b8d-96b8-5cf7a285e903",
   "metadata": {},
   "outputs": [],
   "source": [
    "X_train_full_id, X_test_id, y_train_full, y_test = train_test_split(all_id, df['Pawpularity'], test_size=0.2, random_state=42)\n",
    "X_train_id, X_valid_id, y_train, y_valid = train_test_split(X_train_full_id, y_train_full, test_size=0.25, random_state=42)"
   ]
  },
  {
   "cell_type": "code",
   "execution_count": 14,
   "id": "8997f998-68b6-4a93-8606-b918094dcf2e",
   "metadata": {},
   "outputs": [
    {
     "name": "stderr",
     "output_type": "stream",
     "text": [
      "60it [00:01, 59.03it/s]\n",
      "20it [00:00, 75.75it/s]\n",
      "20it [00:00, 70.55it/s]\n"
     ]
    },
    {
     "data": {
      "text/plain": [
       "Index(['Subject Focus', 'Eyes', 'Face', 'Near', 'Action', 'Accessory', 'Group',\n",
       "       'Collage', 'Human', 'Occlusion', 'Info', 'Blur'],\n",
       "      dtype='object')"
      ]
     },
     "execution_count": 14,
     "metadata": {},
     "output_type": "execute_result"
    }
   ],
   "source": [
    "X_train_metadata = df[df['Id'].isin(X_train_id)]\n",
    "X_train_pictures = get_images_from_id(X_train_metadata['Id'])\n",
    "X_train_metadata = X_train_metadata.drop(columns=['Id', 'Pawpularity'])\n",
    "\n",
    "X_test_metadata = df[df['Id'].isin(X_test_id)]\n",
    "X_test_pictures = get_images_from_id(X_test_metadata['Id'])\n",
    "X_test_metadata = X_test_metadata.drop(columns=['Id', 'Pawpularity'])\n",
    "\n",
    "X_valid_metadata = df[df['Id'].isin(X_valid_id)]\n",
    "X_valid_pictures = get_images_from_id(X_valid_metadata['Id'])\n",
    "X_valid_metadata = X_valid_metadata.drop(columns=['Id', 'Pawpularity'])\n",
    "X_train_metadata.columns"
   ]
  },
  {
   "cell_type": "code",
   "execution_count": 15,
   "id": "a9f1c5b8-61aa-4758-a41c-e449a52d1069",
   "metadata": {},
   "outputs": [
    {
     "name": "stdout",
     "output_type": "stream",
     "text": [
      "Failed to import pydot. You must install pydot and graphviz for `pydotprint` to work.\n",
      "Train on 60 samples, validate on 20 samples\n",
      "Epoch 1/5\n",
      "60/60 [==============================] - 17s 287ms/sample - loss: 2332.4244 - mse: 2332.2668 - val_loss: 1250.5129 - val_mse: 1250.3555\n",
      "Epoch 2/5\n",
      "60/60 [==============================] - 0s 6ms/sample - loss: 2265.9570 - mse: 2265.7996 - val_loss: 1058.8424 - val_mse: 1058.6849\n",
      "Epoch 3/5\n",
      "60/60 [==============================] - 0s 6ms/sample - loss: 1873.8908 - mse: 1873.7332 - val_loss: 349.3666 - val_mse: 349.2090\n",
      "Epoch 4/5\n",
      "60/60 [==============================] - 0s 6ms/sample - loss: 814.3069 - mse: 814.1493 - val_loss: 1883.6831 - val_mse: 1883.5254\n",
      "Epoch 5/5\n",
      "60/60 [==============================] - 0s 6ms/sample - loss: 1166.1786 - mse: 1166.0210 - val_loss: 218.9922 - val_mse: 218.8346\n"
     ]
    }
   ],
   "source": [
    "tf.random.set_seed(42)\n",
    "\n",
    "input_image = tf.keras.Input((IMG_SIZE, IMG_SIZE, 3)) # Wejście na zdjęcia 128X128x3\n",
    "input_metadata = tf.keras.Input(X_train_metadata.shape[1]) # Wejście na metadane 13 kategorii\n",
    "\n",
    "image_conv2D_1 = tf.keras.layers.Conv2D(8, 3, activation='relu', padding='same')(input_image)\n",
    "image_conv2D_2 = tf.keras.layers.Conv2D(8, 3, activation='relu', padding='same')(image_conv2D_1)\n",
    "image_maxpool2D_1 = tf.keras.layers.MaxPooling2D(2)(image_conv2D_2)\n",
    "\n",
    "image_conv2D_3 = tf.keras.layers.Conv2D(16, 3, activation='relu', padding='same')(image_maxpool2D_1)\n",
    "image_conv2D_4 = tf.keras.layers.Conv2D(16, 3, activation='relu', padding='same')(image_conv2D_3)\n",
    "image_maxpool2D_2 = tf.keras.layers.MaxPooling2D(2)(image_conv2D_4)\n",
    "\n",
    "image_conv2D_5 = tf.keras.layers.Conv2D(32, 3, activation='relu', padding='same')(image_maxpool2D_2)\n",
    "image_conv2D_6 = tf.keras.layers.Conv2D(32, 3, activation='relu', padding='same')(image_conv2D_5)\n",
    "image_maxpool2D_3 = tf.keras.layers.MaxPooling2D(2)(image_conv2D_6)\n",
    "\n",
    "image_conv2D_7 = tf.keras.layers.Conv2D(64, 3, activation='relu', padding='same')(image_maxpool2D_3)\n",
    "image_conv2D_8 = tf.keras.layers.Conv2D(64, 3, activation='relu', padding='same')(image_conv2D_7)\n",
    "image_maxpool2D_4 = tf.keras.layers.MaxPooling2D(2)(image_conv2D_8)\n",
    "\n",
    "image_conv2D_9 = tf.keras.layers.Conv2D(128, 3, activation='relu', padding='same')(image_maxpool2D_4)\n",
    "image_conv2D_10 = tf.keras.layers.Conv2D(128, 3, activation='relu', padding='same')(image_conv2D_9)\n",
    "image_maxpool2D_5 = tf.keras.layers.MaxPooling2D(2)(image_conv2D_10) \n",
    "flatten = tf.keras.layers.GlobalAveragePooling2D()(image_maxpool2D_5) #Podobne działanie do Flatten\n",
    "\n",
    "metadata_dense_1 = tf.keras.layers.Dense(16)(input_metadata)\n",
    "metadata_dense_2 = tf.keras.layers.Dense(16)(metadata_dense_1)\n",
    "metadata_dense_3 = tf.keras.layers.Dense(16)(metadata_dense_2)\n",
    "metadata_dense_4 = tf.keras.layers.Dense(16, activation=\"relu\", kernel_regularizer=tf.keras.regularizers.l2())(metadata_dense_3)\n",
    "\n",
    "concat = tf.keras.layers.concatenate([flatten, metadata_dense_4])\n",
    "output = tf.keras.layers.Dense(1)(concat)\n",
    "model = tf.keras.Model(inputs=[input_image, input_metadata], outputs=[output])\n",
    "tf.keras.utils.plot_model(model, show_shapes=True)\n",
    "\n",
    "\n",
    "\n",
    "\n",
    "\n",
    "# model_2 = tf.keras.Sequential([\n",
    "#     tf.keras.layers.Conv2D(64, 7, activation='relu', padding='same', input_shape=[IMG_SIZE, IMG_SIZE, 3]),\n",
    "#     tf.keras.layers.MaxPooling2D(2),\n",
    "#     tf.keras.layers.Conv2D(128, 3, activation='relu', padding='same'),\n",
    "#     tf.keras.layers.Conv2D(128, 3, activation='relu', padding='same'),\n",
    "#     tf.keras.layers.MaxPooling2D(2),\n",
    "#     tf.keras.layers.Conv2D(256, 3, activation='relu', padding='same'),\n",
    "#     tf.keras.layers.Conv2D(256, 3, activation='relu', padding='same'),\n",
    "#     tf.keras.layers.MaxPooling2D(2),\n",
    "#     tf.keras.layers.Flatten(),\n",
    "#     tf.keras.layers.Dense(128, activation='relu'),\n",
    "#     tf.keras.layers.Dropout(0.5),\n",
    "#     tf.keras.layers.Dense(64, activation=\"relu\"),\n",
    "#     tf.keras.layers.Dropout(0.5),\n",
    "#     tf.keras.layers.Dense(1, activation='relu')\n",
    "# ])\n",
    "\n",
    "model.compile(loss=tf.keras.losses.MeanSquaredError(), optimizer=tf.keras.optimizers.Adam(1e-3), metrics=[\"mse\"])\n",
    "\n",
    "history_1 = model.fit((X_train_pictures,X_train_metadata), y_train, epochs=5, validation_data=((X_valid_pictures, X_valid_metadata), y_valid))"
   ]
  },
  {
   "cell_type": "code",
   "execution_count": null,
   "id": "5f664ebd-31f8-4785-b6e0-cb4e157a9a38",
   "metadata": {},
   "outputs": [
    {
     "name": "stderr",
     "output_type": "stream",
     "text": [
      "ERROR:root:Internal Python error in the inspect module.\n",
      "Below is the traceback from this internal error.\n",
      "\n",
      "ERROR:root:Internal Python error in the inspect module.\n",
      "Below is the traceback from this internal error.\n",
      "\n",
      "ERROR:root:Internal Python error in the inspect module.\n",
      "Below is the traceback from this internal error.\n",
      "\n"
     ]
    },
    {
     "name": "stdout",
     "output_type": "stream",
     "text": [
      "Traceback (most recent call last):\n",
      "  File \"C:\\Users\\BartoszOlszewski(243\\miniconda3\\envs\\tensorflow\\lib\\site-packages\\IPython\\core\\interactiveshell.py\", line 3444, in run_code\n",
      "    exec(code_obj, self.user_global_ns, self.user_ns)\n",
      "  File \"C:\\Users\\BARTOS~1\\AppData\\Local\\Temp/ipykernel_12864/3843381106.py\", line 2, in <module>\n",
      "    model.fit((X_train_pictures,X_train_metadata), y_train, epochs=5, validation_data=((X_valid_pictures, X_valid_metadata), y_valid))\n",
      "  File \"C:\\Users\\BartoszOlszewski(243\\miniconda3\\envs\\tensorflow\\lib\\site-packages\\tensorflow_core\\python\\keras\\engine\\training.py\", line 796, in fit\n",
      "    self._assert_compile_was_called()\n",
      "  File \"C:\\Users\\BartoszOlszewski(243\\miniconda3\\envs\\tensorflow\\lib\\site-packages\\tensorflow_core\\python\\keras\\engine\\training.py\", line 2828, in _assert_compile_was_called\n",
      "    raise RuntimeError('You must compile your model before '\n",
      "RuntimeError: You must compile your model before training/testing. Use `model.compile(optimizer, loss)`.\n",
      "\n",
      "During handling of the above exception, another exception occurred:\n",
      "\n",
      "Traceback (most recent call last):\n",
      "  File \"C:\\Users\\BartoszOlszewski(243\\miniconda3\\envs\\tensorflow\\lib\\site-packages\\IPython\\core\\interactiveshell.py\", line 2064, in showtraceback\n",
      "    stb = value._render_traceback_()\n",
      "AttributeError: 'RuntimeError' object has no attribute '_render_traceback_'\n",
      "\n",
      "During handling of the above exception, another exception occurred:\n",
      "\n",
      "Traceback (most recent call last):\n",
      "  File \"C:\\Users\\BartoszOlszewski(243\\miniconda3\\envs\\tensorflow\\lib\\site-packages\\IPython\\core\\ultratb.py\", line 1101, in get_records\n",
      "    return _fixed_getinnerframes(etb, number_of_lines_of_context, tb_offset)\n",
      "  File \"C:\\Users\\BartoszOlszewski(243\\miniconda3\\envs\\tensorflow\\lib\\site-packages\\IPython\\core\\ultratb.py\", line 248, in wrapped\n",
      "    return f(*args, **kwargs)\n",
      "  File \"C:\\Users\\BartoszOlszewski(243\\miniconda3\\envs\\tensorflow\\lib\\site-packages\\IPython\\core\\ultratb.py\", line 281, in _fixed_getinnerframes\n",
      "    records = fix_frame_records_filenames(inspect.getinnerframes(etb, context))\n",
      "  File \"C:\\Users\\BartoszOlszewski(243\\miniconda3\\envs\\tensorflow\\lib\\inspect.py\", line 1502, in getinnerframes\n",
      "    frameinfo = (tb.tb_frame,) + getframeinfo(tb, context)\n",
      "  File \"C:\\Users\\BartoszOlszewski(243\\miniconda3\\envs\\tensorflow\\lib\\inspect.py\", line 1460, in getframeinfo\n",
      "    filename = getsourcefile(frame) or getfile(frame)\n",
      "  File \"C:\\Users\\BartoszOlszewski(243\\miniconda3\\envs\\tensorflow\\lib\\inspect.py\", line 696, in getsourcefile\n",
      "    if getattr(getmodule(object, filename), '__loader__', None) is not None:\n",
      "  File \"C:\\Users\\BartoszOlszewski(243\\miniconda3\\envs\\tensorflow\\lib\\inspect.py\", line 733, in getmodule\n",
      "    if ismodule(module) and hasattr(module, '__file__'):\n",
      "  File \"C:\\Users\\BartoszOlszewski(243\\miniconda3\\envs\\tensorflow\\lib\\site-packages\\tensorflow\\__init__.py\", line 50, in __getattr__\n",
      "    module = self._load()\n",
      "  File \"C:\\Users\\BartoszOlszewski(243\\miniconda3\\envs\\tensorflow\\lib\\site-packages\\tensorflow\\__init__.py\", line 44, in _load\n",
      "    module = _importlib.import_module(self.__name__)\n",
      "  File \"C:\\Users\\BartoszOlszewski(243\\miniconda3\\envs\\tensorflow\\lib\\importlib\\__init__.py\", line 127, in import_module\n",
      "    return _bootstrap._gcd_import(name[level:], package, level)\n",
      "  File \"<frozen importlib._bootstrap>\", line 1006, in _gcd_import\n",
      "  File \"<frozen importlib._bootstrap>\", line 983, in _find_and_load\n",
      "  File \"<frozen importlib._bootstrap>\", line 965, in _find_and_load_unlocked\n",
      "ModuleNotFoundError: No module named 'tensorflow_core.estimator'\n",
      "Traceback (most recent call last):\n",
      "  File \"C:\\Users\\BartoszOlszewski(243\\miniconda3\\envs\\tensorflow\\lib\\site-packages\\IPython\\core\\interactiveshell.py\", line 3444, in run_code\n",
      "    exec(code_obj, self.user_global_ns, self.user_ns)\n",
      "  File \"C:\\Users\\BARTOS~1\\AppData\\Local\\Temp/ipykernel_12864/3843381106.py\", line 2, in <module>\n",
      "    model.fit((X_train_pictures,X_train_metadata), y_train, epochs=5, validation_data=((X_valid_pictures, X_valid_metadata), y_valid))\n",
      "  File \"C:\\Users\\BartoszOlszewski(243\\miniconda3\\envs\\tensorflow\\lib\\site-packages\\tensorflow_core\\python\\keras\\engine\\training.py\", line 796, in fit\n",
      "    self._assert_compile_was_called()\n",
      "  File \"C:\\Users\\BartoszOlszewski(243\\miniconda3\\envs\\tensorflow\\lib\\site-packages\\tensorflow_core\\python\\keras\\engine\\training.py\", line 2828, in _assert_compile_was_called\n",
      "    raise RuntimeError('You must compile your model before '\n",
      "RuntimeError: You must compile your model before training/testing. Use `model.compile(optimizer, loss)`.\n",
      "\n",
      "During handling of the above exception, another exception occurred:\n",
      "\n",
      "Traceback (most recent call last):\n",
      "  File \"C:\\Users\\BartoszOlszewski(243\\miniconda3\\envs\\tensorflow\\lib\\site-packages\\IPython\\core\\interactiveshell.py\", line 2064, in showtraceback\n",
      "    stb = value._render_traceback_()\n",
      "AttributeError: 'RuntimeError' object has no attribute '_render_traceback_'\n",
      "\n",
      "During handling of the above exception, another exception occurred:\n",
      "\n",
      "Traceback (most recent call last):\n",
      "  File \"C:\\Users\\BartoszOlszewski(243\\miniconda3\\envs\\tensorflow\\lib\\site-packages\\IPython\\core\\interactiveshell.py\", line 3364, in run_ast_nodes\n",
      "    if (await self.run_code(code, result,  async_=asy)):\n",
      "  File \"C:\\Users\\BartoszOlszewski(243\\miniconda3\\envs\\tensorflow\\lib\\site-packages\\IPython\\core\\interactiveshell.py\", line 3461, in run_code\n",
      "    self.showtraceback(running_compiled_code=True)\n",
      "  File \"C:\\Users\\BartoszOlszewski(243\\miniconda3\\envs\\tensorflow\\lib\\site-packages\\IPython\\core\\interactiveshell.py\", line 2067, in showtraceback\n",
      "    value, tb, tb_offset=tb_offset)\n",
      "  File \"C:\\Users\\BartoszOlszewski(243\\miniconda3\\envs\\tensorflow\\lib\\site-packages\\IPython\\core\\ultratb.py\", line 1368, in structured_traceback\n",
      "    self, etype, value, tb, tb_offset, number_of_lines_of_context)\n",
      "  File \"C:\\Users\\BartoszOlszewski(243\\miniconda3\\envs\\tensorflow\\lib\\site-packages\\IPython\\core\\ultratb.py\", line 1268, in structured_traceback\n",
      "    self, etype, value, tb, tb_offset, number_of_lines_of_context\n",
      "  File \"C:\\Users\\BartoszOlszewski(243\\miniconda3\\envs\\tensorflow\\lib\\site-packages\\IPython\\core\\ultratb.py\", line 1125, in structured_traceback\n",
      "    tb_offset)\n",
      "  File \"C:\\Users\\BartoszOlszewski(243\\miniconda3\\envs\\tensorflow\\lib\\site-packages\\IPython\\core\\ultratb.py\", line 1082, in format_exception_as_a_whole\n",
      "    last_unique, recursion_repeat = find_recursion(orig_etype, evalue, records)\n",
      "  File \"C:\\Users\\BartoszOlszewski(243\\miniconda3\\envs\\tensorflow\\lib\\site-packages\\IPython\\core\\ultratb.py\", line 382, in find_recursion\n",
      "    return len(records), 0\n",
      "TypeError: object of type 'NoneType' has no len()\n",
      "\n",
      "During handling of the above exception, another exception occurred:\n",
      "\n",
      "Traceback (most recent call last):\n",
      "  File \"C:\\Users\\BartoszOlszewski(243\\miniconda3\\envs\\tensorflow\\lib\\site-packages\\IPython\\core\\interactiveshell.py\", line 2064, in showtraceback\n",
      "    stb = value._render_traceback_()\n",
      "AttributeError: 'TypeError' object has no attribute '_render_traceback_'\n",
      "\n",
      "During handling of the above exception, another exception occurred:\n",
      "\n",
      "Traceback (most recent call last):\n",
      "  File \"C:\\Users\\BartoszOlszewski(243\\miniconda3\\envs\\tensorflow\\lib\\site-packages\\IPython\\core\\ultratb.py\", line 1101, in get_records\n",
      "    return _fixed_getinnerframes(etb, number_of_lines_of_context, tb_offset)\n",
      "  File \"C:\\Users\\BartoszOlszewski(243\\miniconda3\\envs\\tensorflow\\lib\\site-packages\\IPython\\core\\ultratb.py\", line 248, in wrapped\n",
      "    return f(*args, **kwargs)\n",
      "  File \"C:\\Users\\BartoszOlszewski(243\\miniconda3\\envs\\tensorflow\\lib\\site-packages\\IPython\\core\\ultratb.py\", line 281, in _fixed_getinnerframes\n",
      "    records = fix_frame_records_filenames(inspect.getinnerframes(etb, context))\n",
      "  File \"C:\\Users\\BartoszOlszewski(243\\miniconda3\\envs\\tensorflow\\lib\\inspect.py\", line 1502, in getinnerframes\n",
      "    frameinfo = (tb.tb_frame,) + getframeinfo(tb, context)\n",
      "  File \"C:\\Users\\BartoszOlszewski(243\\miniconda3\\envs\\tensorflow\\lib\\inspect.py\", line 1460, in getframeinfo\n",
      "    filename = getsourcefile(frame) or getfile(frame)\n",
      "  File \"C:\\Users\\BartoszOlszewski(243\\miniconda3\\envs\\tensorflow\\lib\\inspect.py\", line 696, in getsourcefile\n",
      "    if getattr(getmodule(object, filename), '__loader__', None) is not None:\n",
      "  File \"C:\\Users\\BartoszOlszewski(243\\miniconda3\\envs\\tensorflow\\lib\\inspect.py\", line 733, in getmodule\n",
      "    if ismodule(module) and hasattr(module, '__file__'):\n",
      "  File \"C:\\Users\\BartoszOlszewski(243\\miniconda3\\envs\\tensorflow\\lib\\site-packages\\tensorflow\\__init__.py\", line 50, in __getattr__\n",
      "    module = self._load()\n",
      "  File \"C:\\Users\\BartoszOlszewski(243\\miniconda3\\envs\\tensorflow\\lib\\site-packages\\tensorflow\\__init__.py\", line 44, in _load\n",
      "    module = _importlib.import_module(self.__name__)\n",
      "  File \"C:\\Users\\BartoszOlszewski(243\\miniconda3\\envs\\tensorflow\\lib\\importlib\\__init__.py\", line 127, in import_module\n",
      "    return _bootstrap._gcd_import(name[level:], package, level)\n",
      "  File \"<frozen importlib._bootstrap>\", line 1006, in _gcd_import\n",
      "  File \"<frozen importlib._bootstrap>\", line 983, in _find_and_load\n",
      "  File \"<frozen importlib._bootstrap>\", line 965, in _find_and_load_unlocked\n",
      "ModuleNotFoundError: No module named 'tensorflow_core.estimator'\n",
      "Traceback (most recent call last):\n",
      "  File \"C:\\Users\\BartoszOlszewski(243\\miniconda3\\envs\\tensorflow\\lib\\site-packages\\IPython\\core\\interactiveshell.py\", line 3444, in run_code\n",
      "    exec(code_obj, self.user_global_ns, self.user_ns)\n",
      "  File \"C:\\Users\\BARTOS~1\\AppData\\Local\\Temp/ipykernel_12864/3843381106.py\", line 2, in <module>\n",
      "    model.fit((X_train_pictures,X_train_metadata), y_train, epochs=5, validation_data=((X_valid_pictures, X_valid_metadata), y_valid))\n",
      "  File \"C:\\Users\\BartoszOlszewski(243\\miniconda3\\envs\\tensorflow\\lib\\site-packages\\tensorflow_core\\python\\keras\\engine\\training.py\", line 796, in fit\n",
      "    self._assert_compile_was_called()\n",
      "  File \"C:\\Users\\BartoszOlszewski(243\\miniconda3\\envs\\tensorflow\\lib\\site-packages\\tensorflow_core\\python\\keras\\engine\\training.py\", line 2828, in _assert_compile_was_called\n",
      "    raise RuntimeError('You must compile your model before '\n",
      "RuntimeError: You must compile your model before training/testing. Use `model.compile(optimizer, loss)`.\n",
      "\n",
      "During handling of the above exception, another exception occurred:\n",
      "\n",
      "Traceback (most recent call last):\n",
      "  File \"C:\\Users\\BartoszOlszewski(243\\miniconda3\\envs\\tensorflow\\lib\\site-packages\\IPython\\core\\interactiveshell.py\", line 2064, in showtraceback\n",
      "    stb = value._render_traceback_()\n",
      "AttributeError: 'RuntimeError' object has no attribute '_render_traceback_'\n",
      "\n",
      "During handling of the above exception, another exception occurred:\n",
      "\n",
      "Traceback (most recent call last):\n",
      "  File \"C:\\Users\\BartoszOlszewski(243\\miniconda3\\envs\\tensorflow\\lib\\site-packages\\IPython\\core\\interactiveshell.py\", line 3364, in run_ast_nodes\n",
      "    if (await self.run_code(code, result,  async_=asy)):\n",
      "  File \"C:\\Users\\BartoszOlszewski(243\\miniconda3\\envs\\tensorflow\\lib\\site-packages\\IPython\\core\\interactiveshell.py\", line 3461, in run_code\n",
      "    self.showtraceback(running_compiled_code=True)\n",
      "  File \"C:\\Users\\BartoszOlszewski(243\\miniconda3\\envs\\tensorflow\\lib\\site-packages\\IPython\\core\\interactiveshell.py\", line 2067, in showtraceback\n",
      "    value, tb, tb_offset=tb_offset)\n",
      "  File \"C:\\Users\\BartoszOlszewski(243\\miniconda3\\envs\\tensorflow\\lib\\site-packages\\IPython\\core\\ultratb.py\", line 1368, in structured_traceback\n",
      "    self, etype, value, tb, tb_offset, number_of_lines_of_context)\n",
      "  File \"C:\\Users\\BartoszOlszewski(243\\miniconda3\\envs\\tensorflow\\lib\\site-packages\\IPython\\core\\ultratb.py\", line 1268, in structured_traceback\n",
      "    self, etype, value, tb, tb_offset, number_of_lines_of_context\n",
      "  File \"C:\\Users\\BartoszOlszewski(243\\miniconda3\\envs\\tensorflow\\lib\\site-packages\\IPython\\core\\ultratb.py\", line 1125, in structured_traceback\n",
      "    tb_offset)\n",
      "  File \"C:\\Users\\BartoszOlszewski(243\\miniconda3\\envs\\tensorflow\\lib\\site-packages\\IPython\\core\\ultratb.py\", line 1082, in format_exception_as_a_whole\n",
      "    last_unique, recursion_repeat = find_recursion(orig_etype, evalue, records)\n",
      "  File \"C:\\Users\\BartoszOlszewski(243\\miniconda3\\envs\\tensorflow\\lib\\site-packages\\IPython\\core\\ultratb.py\", line 382, in find_recursion\n",
      "    return len(records), 0\n",
      "TypeError: object of type 'NoneType' has no len()\n",
      "\n",
      "During handling of the above exception, another exception occurred:\n",
      "\n",
      "Traceback (most recent call last):\n",
      "  File \"C:\\Users\\BartoszOlszewski(243\\miniconda3\\envs\\tensorflow\\lib\\site-packages\\IPython\\core\\interactiveshell.py\", line 2064, in showtraceback\n",
      "    stb = value._render_traceback_()\n",
      "AttributeError: 'TypeError' object has no attribute '_render_traceback_'\n",
      "\n",
      "During handling of the above exception, another exception occurred:\n",
      "\n",
      "Traceback (most recent call last):\n",
      "  File \"C:\\Users\\BartoszOlszewski(243\\miniconda3\\envs\\tensorflow\\lib\\site-packages\\IPython\\core\\interactiveshell.py\", line 2947, in _run_cell\n",
      "    return runner(coro)\n",
      "  File \"C:\\Users\\BartoszOlszewski(243\\miniconda3\\envs\\tensorflow\\lib\\site-packages\\IPython\\core\\async_helpers.py\", line 68, in _pseudo_sync_runner\n",
      "    coro.send(None)\n",
      "  File \"C:\\Users\\BartoszOlszewski(243\\miniconda3\\envs\\tensorflow\\lib\\site-packages\\IPython\\core\\interactiveshell.py\", line 3173, in run_cell_async\n",
      "    interactivity=interactivity, compiler=compiler, result=result)\n",
      "  File \"C:\\Users\\BartoszOlszewski(243\\miniconda3\\envs\\tensorflow\\lib\\site-packages\\IPython\\core\\interactiveshell.py\", line 3383, in run_ast_nodes\n",
      "    self.showtraceback()\n",
      "  File \"C:\\Users\\BartoszOlszewski(243\\miniconda3\\envs\\tensorflow\\lib\\site-packages\\IPython\\core\\interactiveshell.py\", line 2067, in showtraceback\n",
      "    value, tb, tb_offset=tb_offset)\n",
      "  File \"C:\\Users\\BartoszOlszewski(243\\miniconda3\\envs\\tensorflow\\lib\\site-packages\\IPython\\core\\ultratb.py\", line 1368, in structured_traceback\n",
      "    self, etype, value, tb, tb_offset, number_of_lines_of_context)\n",
      "  File \"C:\\Users\\BartoszOlszewski(243\\miniconda3\\envs\\tensorflow\\lib\\site-packages\\IPython\\core\\ultratb.py\", line 1268, in structured_traceback\n",
      "    self, etype, value, tb, tb_offset, number_of_lines_of_context\n",
      "  File \"C:\\Users\\BartoszOlszewski(243\\miniconda3\\envs\\tensorflow\\lib\\site-packages\\IPython\\core\\ultratb.py\", line 1143, in structured_traceback\n",
      "    chained_exceptions_tb_offset)\n",
      "  File \"C:\\Users\\BartoszOlszewski(243\\miniconda3\\envs\\tensorflow\\lib\\site-packages\\IPython\\core\\ultratb.py\", line 1082, in format_exception_as_a_whole\n",
      "    last_unique, recursion_repeat = find_recursion(orig_etype, evalue, records)\n",
      "  File \"C:\\Users\\BartoszOlszewski(243\\miniconda3\\envs\\tensorflow\\lib\\site-packages\\IPython\\core\\ultratb.py\", line 382, in find_recursion\n",
      "    return len(records), 0\n",
      "TypeError: object of type 'NoneType' has no len()\n",
      "\n",
      "During handling of the above exception, another exception occurred:\n",
      "\n",
      "Traceback (most recent call last):\n",
      "  File \"C:\\Users\\BartoszOlszewski(243\\miniconda3\\envs\\tensorflow\\lib\\site-packages\\IPython\\core\\interactiveshell.py\", line 2064, in showtraceback\n",
      "    stb = value._render_traceback_()\n",
      "AttributeError: 'TypeError' object has no attribute '_render_traceback_'\n",
      "\n",
      "During handling of the above exception, another exception occurred:\n",
      "\n",
      "Traceback (most recent call last):\n",
      "  File \"C:\\Users\\BartoszOlszewski(243\\miniconda3\\envs\\tensorflow\\lib\\site-packages\\IPython\\core\\ultratb.py\", line 1101, in get_records\n",
      "    return _fixed_getinnerframes(etb, number_of_lines_of_context, tb_offset)\n",
      "  File \"C:\\Users\\BartoszOlszewski(243\\miniconda3\\envs\\tensorflow\\lib\\site-packages\\IPython\\core\\ultratb.py\", line 248, in wrapped\n",
      "    return f(*args, **kwargs)\n",
      "  File \"C:\\Users\\BartoszOlszewski(243\\miniconda3\\envs\\tensorflow\\lib\\site-packages\\IPython\\core\\ultratb.py\", line 281, in _fixed_getinnerframes\n",
      "    records = fix_frame_records_filenames(inspect.getinnerframes(etb, context))\n",
      "  File \"C:\\Users\\BartoszOlszewski(243\\miniconda3\\envs\\tensorflow\\lib\\inspect.py\", line 1502, in getinnerframes\n",
      "    frameinfo = (tb.tb_frame,) + getframeinfo(tb, context)\n",
      "  File \"C:\\Users\\BartoszOlszewski(243\\miniconda3\\envs\\tensorflow\\lib\\inspect.py\", line 1460, in getframeinfo\n",
      "    filename = getsourcefile(frame) or getfile(frame)\n",
      "  File \"C:\\Users\\BartoszOlszewski(243\\miniconda3\\envs\\tensorflow\\lib\\inspect.py\", line 696, in getsourcefile\n",
      "    if getattr(getmodule(object, filename), '__loader__', None) is not None:\n",
      "  File \"C:\\Users\\BartoszOlszewski(243\\miniconda3\\envs\\tensorflow\\lib\\inspect.py\", line 733, in getmodule\n",
      "    if ismodule(module) and hasattr(module, '__file__'):\n",
      "  File \"C:\\Users\\BartoszOlszewski(243\\miniconda3\\envs\\tensorflow\\lib\\site-packages\\tensorflow\\__init__.py\", line 50, in __getattr__\n",
      "    module = self._load()\n",
      "  File \"C:\\Users\\BartoszOlszewski(243\\miniconda3\\envs\\tensorflow\\lib\\site-packages\\tensorflow\\__init__.py\", line 44, in _load\n",
      "    module = _importlib.import_module(self.__name__)\n",
      "  File \"C:\\Users\\BartoszOlszewski(243\\miniconda3\\envs\\tensorflow\\lib\\importlib\\__init__.py\", line 127, in import_module\n",
      "    return _bootstrap._gcd_import(name[level:], package, level)\n",
      "  File \"<frozen importlib._bootstrap>\", line 1006, in _gcd_import\n",
      "  File \"<frozen importlib._bootstrap>\", line 983, in _find_and_load\n",
      "  File \"<frozen importlib._bootstrap>\", line 965, in _find_and_load_unlocked\n",
      "ModuleNotFoundError: No module named 'tensorflow_core.estimator'\n"
     ]
    }
   ],
   "source": [
    "model = tf.keras.Model(inputs=[input_image, input_metadata], outputs=[output])\n",
    "model.fit((X_train_pictures,X_train_metadata), y_train, epochs=5, validation_data=((X_valid_pictures, X_valid_metadata), y_valid))"
   ]
  },
  {
   "cell_type": "code",
   "execution_count": 10,
   "id": "f40566df-bacc-4356-9944-7c40fd6c7da3",
   "metadata": {},
   "outputs": [
    {
     "data": {
      "text/plain": [
       "454.49254503694044"
      ]
     },
     "execution_count": 10,
     "metadata": {},
     "output_type": "execute_result"
    }
   ],
   "source": [
    "mean_squared_error(y_test, model.predict((X_test_pictures, X_test_metadata)))"
   ]
  },
  {
   "cell_type": "code",
   "execution_count": 11,
   "id": "5f0ae806-a75b-4b03-8259-2a724e7204e2",
   "metadata": {},
   "outputs": [
    {
     "data": {
      "image/png": "[encoded data removed]",
      "text/plain": [
       "<Figure size 576x360 with 1 Axes>"
      ]
     },
     "metadata": {
      "needs_background": "light"
     },
     "output_type": "display_data"
    }
   ],
   "source": [
    "pd.DataFrame(history_1.history).plot(figsize=(8,5))\n",
    "plt.grid(True)\n",
    "plt.show()"
   ]
  },
  {
   "cell_type": "code",
   "execution_count": null,
   "id": "c2fe4274-465b-4925-9cd8-2b4d113a2af0",
   "metadata": {},
   "outputs": [],
   "source": []
  }
 ],
 "metadata": {
  "kernelspec": {
   "display_name": "Python 3 (ipykernel)",
   "language": "python",
   "name": "python3"
  },
  "language_info": {
   "codemirror_mode": {
    "name": "ipython",
    "version": 3
   },
   "file_extension": ".py",
   "mimetype": "text/x-python",
   "name": "python",
   "nbconvert_exporter": "python",
   "pygments_lexer": "ipython3",
   "version": "3.9.5"
  }
 },
 "nbformat": 4,
 "nbformat_minor": 5
}
